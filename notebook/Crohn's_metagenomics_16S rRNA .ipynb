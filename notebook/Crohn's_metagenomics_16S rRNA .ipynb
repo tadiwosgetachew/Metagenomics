{
 "cells": [
  {
   "cell_type": "markdown",
   "metadata": {},
   "source": [
    "## Project Summary\n",
    "\n",
    "The human body and its microbiome engage in a dynamic and intricate relationship. The microbiome—particularly the gut microbiota—comprises a vast and metabolically active community, with microbial cells estimated to outnumber human cells by a factor of ten. This ecosystem plays essential roles in digestion, immune function, protection against pathogens, and even brain health. Maintaining a balanced host–microbiota relationship is crucial for overall well-being, as disruptions in this balance—known as dysbiosis—have been linked to a range of conditions, including inflammatory bowel disease (IBD).\n",
    "\n",
    "This project centers on Crohn’s disease (CD), a chronic inflammatory disorder of the gastrointestinal tract and a major form of IBD. Its global incidence continues to rise, and while its exact cause remains unknown, a combination of genetic predisposition, environmental influences, and microbial imbalance appears to play a role in disease development and progression.\n",
    "\n",
    "To investigate these microbial contributions, we will use 16S rRNA sequencing on fecal samples from 30 Crohn’s disease patients and 30 healthy controls, all of Ashkenazi Jewish descent from the New York area; publicly availabale dataset provided by UCLA via NCBI's sequnce read archive (SRA). By analyzing differences in gut microbiome composition between the two groups, we aim to identify differentially abundant genera associated with CD. These findings may support the discovery of microbial biomarkers, improve diagnostic strategies, and guide the development of targeted therapies.\n"
   ]
  },
  {
   "cell_type": "code",
   "execution_count": 2,
   "metadata": {},
   "outputs": [],
   "source": [
    "import pandas as pd\n",
    "import os\n",
    "import subprocess\n",
    "import qiime2\n",
    "from qiime2 import Visualization"
   ]
  },
  {
   "cell_type": "markdown",
   "metadata": {},
   "source": [
    "## Data preprocessing \n",
    "\n",
    "We will inspect the metadata and select a subset of the dataset for analysis. We will use 30 diseased and healthy control samples for statistical significance. "
   ]
  },
  {
   "cell_type": "code",
   "execution_count": 2,
   "metadata": {},
   "outputs": [
    {
     "data": {
      "text/html": [
       "<div>\n",
       "<style scoped>\n",
       "    .dataframe tbody tr th:only-of-type {\n",
       "        vertical-align: middle;\n",
       "    }\n",
       "\n",
       "    .dataframe tbody tr th {\n",
       "        vertical-align: top;\n",
       "    }\n",
       "\n",
       "    .dataframe thead th {\n",
       "        text-align: right;\n",
       "    }\n",
       "</style>\n",
       "<table border=\"1\" class=\"dataframe\">\n",
       "  <thead>\n",
       "    <tr style=\"text-align: right;\">\n",
       "      <th></th>\n",
       "      <th>Run</th>\n",
       "      <th>Assay Type</th>\n",
       "      <th>AvgSpotLen</th>\n",
       "      <th>Bases</th>\n",
       "      <th>BioProject</th>\n",
       "      <th>BioSample</th>\n",
       "      <th>BioSampleModel</th>\n",
       "      <th>Bytes</th>\n",
       "      <th>Center Name</th>\n",
       "      <th>collection_date</th>\n",
       "      <th>...</th>\n",
       "      <th>Dysbiosis_Score</th>\n",
       "      <th>ethnicity</th>\n",
       "      <th>ANCA_EU</th>\n",
       "      <th>CBir1_EU</th>\n",
       "      <th>IgA_ASCA_EU</th>\n",
       "      <th>IgG_ASCA_EU</th>\n",
       "      <th>OmpC_EU</th>\n",
       "      <th>Serology_Score</th>\n",
       "      <th>gastrointest_disord</th>\n",
       "      <th>host_body_product</th>\n",
       "    </tr>\n",
       "  </thead>\n",
       "  <tbody>\n",
       "    <tr>\n",
       "      <th>0</th>\n",
       "      <td>SRR27747650</td>\n",
       "      <td>AMPLICON</td>\n",
       "      <td>499</td>\n",
       "      <td>18822579</td>\n",
       "      <td>PRJNA1053656</td>\n",
       "      <td>SAMN39615161</td>\n",
       "      <td>MIMS.me,MIGS/MIMS/MIMARKS.human-gut</td>\n",
       "      <td>11006343</td>\n",
       "      <td>UCLA</td>\n",
       "      <td>2017-09</td>\n",
       "      <td>...</td>\n",
       "      <td>0.708986</td>\n",
       "      <td>White</td>\n",
       "      <td>13.541820</td>\n",
       "      <td>10.644531</td>\n",
       "      <td>4.396967</td>\n",
       "      <td>3.378769</td>\n",
       "      <td>5.173604</td>\n",
       "      <td>0.240278</td>\n",
       "      <td>Crohn's Disease</td>\n",
       "      <td>NaN</td>\n",
       "    </tr>\n",
       "    <tr>\n",
       "      <th>1</th>\n",
       "      <td>SRR27747651</td>\n",
       "      <td>AMPLICON</td>\n",
       "      <td>499</td>\n",
       "      <td>19907717</td>\n",
       "      <td>PRJNA1053656</td>\n",
       "      <td>SAMN39615160</td>\n",
       "      <td>MIMS.me,MIGS/MIMS/MIMARKS.human-gut</td>\n",
       "      <td>11906253</td>\n",
       "      <td>UCLA</td>\n",
       "      <td>2017-07</td>\n",
       "      <td>...</td>\n",
       "      <td>0.716442</td>\n",
       "      <td>White</td>\n",
       "      <td>15.475319</td>\n",
       "      <td>34.993490</td>\n",
       "      <td>97.820696</td>\n",
       "      <td>63.855626</td>\n",
       "      <td>15.405330</td>\n",
       "      <td>2.179024</td>\n",
       "      <td>Crohn's Disease</td>\n",
       "      <td>NaN</td>\n",
       "    </tr>\n",
       "    <tr>\n",
       "      <th>2</th>\n",
       "      <td>SRR27747652</td>\n",
       "      <td>AMPLICON</td>\n",
       "      <td>499</td>\n",
       "      <td>16386433</td>\n",
       "      <td>PRJNA1053656</td>\n",
       "      <td>SAMN39615159</td>\n",
       "      <td>MIMS.me,MIGS/MIMS/MIMARKS.human-gut</td>\n",
       "      <td>9970643</td>\n",
       "      <td>UCLA</td>\n",
       "      <td>2017-08</td>\n",
       "      <td>...</td>\n",
       "      <td>0.594130</td>\n",
       "      <td>White</td>\n",
       "      <td>5.194735</td>\n",
       "      <td>19.426111</td>\n",
       "      <td>0.724374</td>\n",
       "      <td>0.472128</td>\n",
       "      <td>2.628538</td>\n",
       "      <td>-0.929671</td>\n",
       "      <td>NaN</td>\n",
       "      <td>NaN</td>\n",
       "    </tr>\n",
       "    <tr>\n",
       "      <th>3</th>\n",
       "      <td>SRR27747653</td>\n",
       "      <td>AMPLICON</td>\n",
       "      <td>499</td>\n",
       "      <td>20124444</td>\n",
       "      <td>PRJNA1053656</td>\n",
       "      <td>SAMN39615158</td>\n",
       "      <td>MIMS.me,MIGS/MIMS/MIMARKS.human-gut</td>\n",
       "      <td>12189573</td>\n",
       "      <td>UCLA</td>\n",
       "      <td>2017-08</td>\n",
       "      <td>...</td>\n",
       "      <td>0.584956</td>\n",
       "      <td>White</td>\n",
       "      <td>NaN</td>\n",
       "      <td>NaN</td>\n",
       "      <td>NaN</td>\n",
       "      <td>NaN</td>\n",
       "      <td>NaN</td>\n",
       "      <td>NaN</td>\n",
       "      <td>NaN</td>\n",
       "      <td>NaN</td>\n",
       "    </tr>\n",
       "    <tr>\n",
       "      <th>4</th>\n",
       "      <td>SRR27747654</td>\n",
       "      <td>AMPLICON</td>\n",
       "      <td>499</td>\n",
       "      <td>16590899</td>\n",
       "      <td>PRJNA1053656</td>\n",
       "      <td>SAMN39615157</td>\n",
       "      <td>MIMS.me,MIGS/MIMS/MIMARKS.human-gut</td>\n",
       "      <td>10134315</td>\n",
       "      <td>UCLA</td>\n",
       "      <td>2017-07</td>\n",
       "      <td>...</td>\n",
       "      <td>0.617854</td>\n",
       "      <td>White</td>\n",
       "      <td>2.993678</td>\n",
       "      <td>30.794271</td>\n",
       "      <td>1.607493</td>\n",
       "      <td>3.874735</td>\n",
       "      <td>5.381472</td>\n",
       "      <td>-0.070397</td>\n",
       "      <td>NaN</td>\n",
       "      <td>NaN</td>\n",
       "    </tr>\n",
       "  </tbody>\n",
       "</table>\n",
       "<p>5 rows × 53 columns</p>\n",
       "</div>"
      ],
      "text/plain": [
       "           Run Assay Type  AvgSpotLen     Bases    BioProject     BioSample  \\\n",
       "0  SRR27747650   AMPLICON         499  18822579  PRJNA1053656  SAMN39615161   \n",
       "1  SRR27747651   AMPLICON         499  19907717  PRJNA1053656  SAMN39615160   \n",
       "2  SRR27747652   AMPLICON         499  16386433  PRJNA1053656  SAMN39615159   \n",
       "3  SRR27747653   AMPLICON         499  20124444  PRJNA1053656  SAMN39615158   \n",
       "4  SRR27747654   AMPLICON         499  16590899  PRJNA1053656  SAMN39615157   \n",
       "\n",
       "                        BioSampleModel     Bytes Center Name collection_date  \\\n",
       "0  MIMS.me,MIGS/MIMS/MIMARKS.human-gut  11006343        UCLA         2017-09   \n",
       "1  MIMS.me,MIGS/MIMS/MIMARKS.human-gut  11906253        UCLA         2017-07   \n",
       "2  MIMS.me,MIGS/MIMS/MIMARKS.human-gut   9970643        UCLA         2017-08   \n",
       "3  MIMS.me,MIGS/MIMS/MIMARKS.human-gut  12189573        UCLA         2017-08   \n",
       "4  MIMS.me,MIGS/MIMS/MIMARKS.human-gut  10134315        UCLA         2017-07   \n",
       "\n",
       "   ... Dysbiosis_Score ethnicity    ANCA_EU   CBir1_EU IgA_ASCA_EU  \\\n",
       "0  ...        0.708986     White  13.541820  10.644531    4.396967   \n",
       "1  ...        0.716442     White  15.475319  34.993490   97.820696   \n",
       "2  ...        0.594130     White   5.194735  19.426111    0.724374   \n",
       "3  ...        0.584956     White        NaN        NaN         NaN   \n",
       "4  ...        0.617854     White   2.993678  30.794271    1.607493   \n",
       "\n",
       "  IgG_ASCA_EU    OmpC_EU Serology_Score gastrointest_disord host_body_product  \n",
       "0    3.378769   5.173604       0.240278     Crohn's Disease               NaN  \n",
       "1   63.855626  15.405330       2.179024     Crohn's Disease               NaN  \n",
       "2    0.472128   2.628538      -0.929671                 NaN               NaN  \n",
       "3         NaN        NaN            NaN                 NaN               NaN  \n",
       "4    3.874735   5.381472      -0.070397                 NaN               NaN  \n",
       "\n",
       "[5 rows x 53 columns]"
      ]
     },
     "execution_count": 2,
     "metadata": {},
     "output_type": "execute_result"
    }
   ],
   "source": [
    "metadata = pd.read_csv(\"SraRunTable.csv\")\n",
    "metadata.head()"
   ]
  },
  {
   "cell_type": "code",
   "execution_count": 3,
   "metadata": {},
   "outputs": [],
   "source": [
    "control_samples = metadata[metadata['disease_group'] == 'Control'].head(30) # filter for 30 control groups"
   ]
  },
  {
   "cell_type": "code",
   "execution_count": 4,
   "metadata": {},
   "outputs": [],
   "source": [
    "cd_samples = metadata[metadata['disease_group'] == 'CD'].head(30) # CD = filter for sample with Crohn's Disease\n"
   ]
  },
  {
   "cell_type": "code",
   "execution_count": 5,
   "metadata": {},
   "outputs": [],
   "source": [
    "samples_to_download = pd.concat([cd_samples, control_samples]) # concatenate the filtered disease group and control group datasets"
   ]
  },
  {
   "cell_type": "code",
   "execution_count": 7,
   "metadata": {
    "scrolled": true
   },
   "outputs": [
    {
     "data": {
      "text/html": [
       "<div>\n",
       "<style scoped>\n",
       "    .dataframe tbody tr th:only-of-type {\n",
       "        vertical-align: middle;\n",
       "    }\n",
       "\n",
       "    .dataframe tbody tr th {\n",
       "        vertical-align: top;\n",
       "    }\n",
       "\n",
       "    .dataframe thead th {\n",
       "        text-align: right;\n",
       "    }\n",
       "</style>\n",
       "<table border=\"1\" class=\"dataframe\">\n",
       "  <thead>\n",
       "    <tr style=\"text-align: right;\">\n",
       "      <th></th>\n",
       "      <th>Run</th>\n",
       "      <th>disease_group</th>\n",
       "      <th>host_age</th>\n",
       "      <th>host_sex</th>\n",
       "      <th>family_id</th>\n",
       "      <th>Genetic_Risk_Score</th>\n",
       "      <th>Dysbiosis_Score</th>\n",
       "      <th>ethnicity</th>\n",
       "    </tr>\n",
       "  </thead>\n",
       "  <tbody>\n",
       "    <tr>\n",
       "      <th>0</th>\n",
       "      <td>SRR27747650</td>\n",
       "      <td>CD</td>\n",
       "      <td>35.046575</td>\n",
       "      <td>female</td>\n",
       "      <td>F167</td>\n",
       "      <td>-0.001274</td>\n",
       "      <td>0.708986</td>\n",
       "      <td>White</td>\n",
       "    </tr>\n",
       "    <tr>\n",
       "      <th>1</th>\n",
       "      <td>SRR27747651</td>\n",
       "      <td>CD</td>\n",
       "      <td>28.780822</td>\n",
       "      <td>female</td>\n",
       "      <td>F136</td>\n",
       "      <td>-0.002018</td>\n",
       "      <td>0.716442</td>\n",
       "      <td>White</td>\n",
       "    </tr>\n",
       "    <tr>\n",
       "      <th>5</th>\n",
       "      <td>SRR27747655</td>\n",
       "      <td>CD</td>\n",
       "      <td>44.104110</td>\n",
       "      <td>male</td>\n",
       "      <td>F102</td>\n",
       "      <td>0.000349</td>\n",
       "      <td>0.739528</td>\n",
       "      <td>White</td>\n",
       "    </tr>\n",
       "    <tr>\n",
       "      <th>9</th>\n",
       "      <td>SRR27747659</td>\n",
       "      <td>CD</td>\n",
       "      <td>26.265753</td>\n",
       "      <td>female</td>\n",
       "      <td>F156</td>\n",
       "      <td>-0.002612</td>\n",
       "      <td>NaN</td>\n",
       "      <td>White</td>\n",
       "    </tr>\n",
       "    <tr>\n",
       "      <th>14</th>\n",
       "      <td>SRR27747664</td>\n",
       "      <td>CD</td>\n",
       "      <td>32.216438</td>\n",
       "      <td>female</td>\n",
       "      <td>F136</td>\n",
       "      <td>-0.003308</td>\n",
       "      <td>0.900009</td>\n",
       "      <td>White</td>\n",
       "    </tr>\n",
       "    <tr>\n",
       "      <th>35</th>\n",
       "      <td>SRR27747685</td>\n",
       "      <td>CD</td>\n",
       "      <td>13.230137</td>\n",
       "      <td>female</td>\n",
       "      <td>F115</td>\n",
       "      <td>-0.003853</td>\n",
       "      <td>0.585463</td>\n",
       "      <td>White</td>\n",
       "    </tr>\n",
       "    <tr>\n",
       "      <th>72</th>\n",
       "      <td>SRR27747722</td>\n",
       "      <td>CD</td>\n",
       "      <td>26.657534</td>\n",
       "      <td>male</td>\n",
       "      <td>F198</td>\n",
       "      <td>-0.001305</td>\n",
       "      <td>0.799530</td>\n",
       "      <td>NaN</td>\n",
       "    </tr>\n",
       "    <tr>\n",
       "      <th>78</th>\n",
       "      <td>SRR27747728</td>\n",
       "      <td>CD</td>\n",
       "      <td>26.512329</td>\n",
       "      <td>male</td>\n",
       "      <td>F187</td>\n",
       "      <td>-0.002391</td>\n",
       "      <td>0.706355</td>\n",
       "      <td>White</td>\n",
       "    </tr>\n",
       "    <tr>\n",
       "      <th>80</th>\n",
       "      <td>SRR27747730</td>\n",
       "      <td>CD</td>\n",
       "      <td>44.824658</td>\n",
       "      <td>male</td>\n",
       "      <td>F135</td>\n",
       "      <td>-0.001400</td>\n",
       "      <td>0.602611</td>\n",
       "      <td>White</td>\n",
       "    </tr>\n",
       "    <tr>\n",
       "      <th>91</th>\n",
       "      <td>SRR27747741</td>\n",
       "      <td>CD</td>\n",
       "      <td>20.882192</td>\n",
       "      <td>male</td>\n",
       "      <td>F190</td>\n",
       "      <td>0.000611</td>\n",
       "      <td>0.936082</td>\n",
       "      <td>NaN</td>\n",
       "    </tr>\n",
       "    <tr>\n",
       "      <th>93</th>\n",
       "      <td>SRR27747743</td>\n",
       "      <td>CD</td>\n",
       "      <td>39.298630</td>\n",
       "      <td>male</td>\n",
       "      <td>F138</td>\n",
       "      <td>-0.000115</td>\n",
       "      <td>0.875586</td>\n",
       "      <td>White</td>\n",
       "    </tr>\n",
       "    <tr>\n",
       "      <th>95</th>\n",
       "      <td>SRR27747745</td>\n",
       "      <td>CD</td>\n",
       "      <td>15.972603</td>\n",
       "      <td>male</td>\n",
       "      <td>F147</td>\n",
       "      <td>-0.001430</td>\n",
       "      <td>0.707177</td>\n",
       "      <td>NaN</td>\n",
       "    </tr>\n",
       "    <tr>\n",
       "      <th>98</th>\n",
       "      <td>SRR27747748</td>\n",
       "      <td>CD</td>\n",
       "      <td>54.605479</td>\n",
       "      <td>male</td>\n",
       "      <td>F147</td>\n",
       "      <td>0.000399</td>\n",
       "      <td>0.668200</td>\n",
       "      <td>Black</td>\n",
       "    </tr>\n",
       "    <tr>\n",
       "      <th>100</th>\n",
       "      <td>SRR27747750</td>\n",
       "      <td>CD</td>\n",
       "      <td>7.715068</td>\n",
       "      <td>male</td>\n",
       "      <td>F178</td>\n",
       "      <td>-0.001955</td>\n",
       "      <td>0.846127</td>\n",
       "      <td>White</td>\n",
       "    </tr>\n",
       "    <tr>\n",
       "      <th>101</th>\n",
       "      <td>SRR27747751</td>\n",
       "      <td>CD</td>\n",
       "      <td>22.063014</td>\n",
       "      <td>male</td>\n",
       "      <td>F114</td>\n",
       "      <td>-0.001342</td>\n",
       "      <td>0.794160</td>\n",
       "      <td>White</td>\n",
       "    </tr>\n",
       "    <tr>\n",
       "      <th>120</th>\n",
       "      <td>SRR27747770</td>\n",
       "      <td>CD</td>\n",
       "      <td>40.561644</td>\n",
       "      <td>male</td>\n",
       "      <td>F161</td>\n",
       "      <td>-0.001451</td>\n",
       "      <td>0.696553</td>\n",
       "      <td>White</td>\n",
       "    </tr>\n",
       "    <tr>\n",
       "      <th>121</th>\n",
       "      <td>SRR27747771</td>\n",
       "      <td>CD</td>\n",
       "      <td>37.613699</td>\n",
       "      <td>male</td>\n",
       "      <td>F134</td>\n",
       "      <td>NaN</td>\n",
       "      <td>0.615924</td>\n",
       "      <td>NaN</td>\n",
       "    </tr>\n",
       "    <tr>\n",
       "      <th>122</th>\n",
       "      <td>SRR27747772</td>\n",
       "      <td>CD</td>\n",
       "      <td>40.309589</td>\n",
       "      <td>male</td>\n",
       "      <td>F167</td>\n",
       "      <td>-0.003645</td>\n",
       "      <td>0.596148</td>\n",
       "      <td>White</td>\n",
       "    </tr>\n",
       "    <tr>\n",
       "      <th>129</th>\n",
       "      <td>SRR27747779</td>\n",
       "      <td>CD</td>\n",
       "      <td>12.276712</td>\n",
       "      <td>male</td>\n",
       "      <td>F102</td>\n",
       "      <td>-0.001359</td>\n",
       "      <td>0.779052</td>\n",
       "      <td>White</td>\n",
       "    </tr>\n",
       "    <tr>\n",
       "      <th>131</th>\n",
       "      <td>SRR27747781</td>\n",
       "      <td>CD</td>\n",
       "      <td>55.550685</td>\n",
       "      <td>female</td>\n",
       "      <td>F164</td>\n",
       "      <td>-0.001786</td>\n",
       "      <td>0.699385</td>\n",
       "      <td>White</td>\n",
       "    </tr>\n",
       "    <tr>\n",
       "      <th>132</th>\n",
       "      <td>SRR27747782</td>\n",
       "      <td>CD</td>\n",
       "      <td>25.079452</td>\n",
       "      <td>male</td>\n",
       "      <td>F137</td>\n",
       "      <td>0.000513</td>\n",
       "      <td>0.658913</td>\n",
       "      <td>White</td>\n",
       "    </tr>\n",
       "    <tr>\n",
       "      <th>134</th>\n",
       "      <td>SRR27747784</td>\n",
       "      <td>CD</td>\n",
       "      <td>35.446575</td>\n",
       "      <td>female</td>\n",
       "      <td>F157</td>\n",
       "      <td>-0.001172</td>\n",
       "      <td>0.583520</td>\n",
       "      <td>White</td>\n",
       "    </tr>\n",
       "    <tr>\n",
       "      <th>138</th>\n",
       "      <td>SRR27747788</td>\n",
       "      <td>CD</td>\n",
       "      <td>21.975342</td>\n",
       "      <td>male</td>\n",
       "      <td>F150</td>\n",
       "      <td>0.000034</td>\n",
       "      <td>0.622189</td>\n",
       "      <td>NaN</td>\n",
       "    </tr>\n",
       "    <tr>\n",
       "      <th>141</th>\n",
       "      <td>SRR27747791</td>\n",
       "      <td>CD</td>\n",
       "      <td>18.282192</td>\n",
       "      <td>male</td>\n",
       "      <td>F150</td>\n",
       "      <td>-0.002411</td>\n",
       "      <td>0.934728</td>\n",
       "      <td>NaN</td>\n",
       "    </tr>\n",
       "    <tr>\n",
       "      <th>151</th>\n",
       "      <td>SRR27747801</td>\n",
       "      <td>CD</td>\n",
       "      <td>31.046575</td>\n",
       "      <td>female</td>\n",
       "      <td>F146</td>\n",
       "      <td>-0.002867</td>\n",
       "      <td>0.585275</td>\n",
       "      <td>NaN</td>\n",
       "    </tr>\n",
       "    <tr>\n",
       "      <th>180</th>\n",
       "      <td>SRR27747830</td>\n",
       "      <td>CD</td>\n",
       "      <td>44.835616</td>\n",
       "      <td>female</td>\n",
       "      <td>F154</td>\n",
       "      <td>-0.000922</td>\n",
       "      <td>0.633724</td>\n",
       "      <td>White</td>\n",
       "    </tr>\n",
       "    <tr>\n",
       "      <th>182</th>\n",
       "      <td>SRR27747832</td>\n",
       "      <td>CD</td>\n",
       "      <td>21.465753</td>\n",
       "      <td>female</td>\n",
       "      <td>F186</td>\n",
       "      <td>-0.002631</td>\n",
       "      <td>0.898051</td>\n",
       "      <td>White</td>\n",
       "    </tr>\n",
       "    <tr>\n",
       "      <th>183</th>\n",
       "      <td>SRR27747833</td>\n",
       "      <td>CD</td>\n",
       "      <td>33.972603</td>\n",
       "      <td>male</td>\n",
       "      <td>F132</td>\n",
       "      <td>-0.001026</td>\n",
       "      <td>0.698344</td>\n",
       "      <td>White</td>\n",
       "    </tr>\n",
       "    <tr>\n",
       "      <th>185</th>\n",
       "      <td>SRR27747835</td>\n",
       "      <td>CD</td>\n",
       "      <td>19.673973</td>\n",
       "      <td>male</td>\n",
       "      <td>F186</td>\n",
       "      <td>-0.001782</td>\n",
       "      <td>0.668894</td>\n",
       "      <td>White</td>\n",
       "    </tr>\n",
       "    <tr>\n",
       "      <th>186</th>\n",
       "      <td>SRR27747836</td>\n",
       "      <td>CD</td>\n",
       "      <td>17.271233</td>\n",
       "      <td>male</td>\n",
       "      <td>F186</td>\n",
       "      <td>0.000022</td>\n",
       "      <td>0.606208</td>\n",
       "      <td>White</td>\n",
       "    </tr>\n",
       "    <tr>\n",
       "      <th>2</th>\n",
       "      <td>SRR27747652</td>\n",
       "      <td>Control</td>\n",
       "      <td>27.712329</td>\n",
       "      <td>male</td>\n",
       "      <td>F107</td>\n",
       "      <td>0.000134</td>\n",
       "      <td>0.594130</td>\n",
       "      <td>White</td>\n",
       "    </tr>\n",
       "    <tr>\n",
       "      <th>3</th>\n",
       "      <td>SRR27747653</td>\n",
       "      <td>Control</td>\n",
       "      <td>27.632877</td>\n",
       "      <td>female</td>\n",
       "      <td>F102</td>\n",
       "      <td>-0.004710</td>\n",
       "      <td>0.584956</td>\n",
       "      <td>White</td>\n",
       "    </tr>\n",
       "    <tr>\n",
       "      <th>12</th>\n",
       "      <td>SRR27747662</td>\n",
       "      <td>Control</td>\n",
       "      <td>32.989041</td>\n",
       "      <td>male</td>\n",
       "      <td>F129</td>\n",
       "      <td>NaN</td>\n",
       "      <td>0.556428</td>\n",
       "      <td>NaN</td>\n",
       "    </tr>\n",
       "    <tr>\n",
       "      <th>18</th>\n",
       "      <td>SRR27747668</td>\n",
       "      <td>Control</td>\n",
       "      <td>26.158904</td>\n",
       "      <td>female</td>\n",
       "      <td>F156</td>\n",
       "      <td>-0.002219</td>\n",
       "      <td>0.680386</td>\n",
       "      <td>White</td>\n",
       "    </tr>\n",
       "    <tr>\n",
       "      <th>19</th>\n",
       "      <td>SRR27747669</td>\n",
       "      <td>Control</td>\n",
       "      <td>57.849315</td>\n",
       "      <td>male</td>\n",
       "      <td>F165</td>\n",
       "      <td>-0.004740</td>\n",
       "      <td>0.641605</td>\n",
       "      <td>White</td>\n",
       "    </tr>\n",
       "    <tr>\n",
       "      <th>21</th>\n",
       "      <td>SRR27747671</td>\n",
       "      <td>Control</td>\n",
       "      <td>24.720548</td>\n",
       "      <td>female</td>\n",
       "      <td>F107</td>\n",
       "      <td>-0.000766</td>\n",
       "      <td>0.573403</td>\n",
       "      <td>NaN</td>\n",
       "    </tr>\n",
       "    <tr>\n",
       "      <th>32</th>\n",
       "      <td>SRR27747682</td>\n",
       "      <td>Control</td>\n",
       "      <td>24.553425</td>\n",
       "      <td>male</td>\n",
       "      <td>F107</td>\n",
       "      <td>-0.003006</td>\n",
       "      <td>0.605864</td>\n",
       "      <td>White</td>\n",
       "    </tr>\n",
       "    <tr>\n",
       "      <th>39</th>\n",
       "      <td>SRR27747689</td>\n",
       "      <td>Control</td>\n",
       "      <td>30.572603</td>\n",
       "      <td>male</td>\n",
       "      <td>F102</td>\n",
       "      <td>-0.003793</td>\n",
       "      <td>0.521439</td>\n",
       "      <td>White</td>\n",
       "    </tr>\n",
       "    <tr>\n",
       "      <th>56</th>\n",
       "      <td>SRR27747706</td>\n",
       "      <td>Control</td>\n",
       "      <td>20.830137</td>\n",
       "      <td>female</td>\n",
       "      <td>F107</td>\n",
       "      <td>-0.001298</td>\n",
       "      <td>0.742072</td>\n",
       "      <td>White</td>\n",
       "    </tr>\n",
       "    <tr>\n",
       "      <th>102</th>\n",
       "      <td>SRR27747752</td>\n",
       "      <td>Control</td>\n",
       "      <td>6.854795</td>\n",
       "      <td>female</td>\n",
       "      <td>F196</td>\n",
       "      <td>-0.002442</td>\n",
       "      <td>0.588843</td>\n",
       "      <td>NaN</td>\n",
       "    </tr>\n",
       "    <tr>\n",
       "      <th>104</th>\n",
       "      <td>SRR27747754</td>\n",
       "      <td>Control</td>\n",
       "      <td>8.778082</td>\n",
       "      <td>female</td>\n",
       "      <td>F196</td>\n",
       "      <td>-0.004757</td>\n",
       "      <td>0.661006</td>\n",
       "      <td>NaN</td>\n",
       "    </tr>\n",
       "    <tr>\n",
       "      <th>105</th>\n",
       "      <td>SRR27747755</td>\n",
       "      <td>Control</td>\n",
       "      <td>10.695890</td>\n",
       "      <td>male</td>\n",
       "      <td>F196</td>\n",
       "      <td>-0.000613</td>\n",
       "      <td>0.661943</td>\n",
       "      <td>NaN</td>\n",
       "    </tr>\n",
       "    <tr>\n",
       "      <th>108</th>\n",
       "      <td>SRR27747758</td>\n",
       "      <td>Control</td>\n",
       "      <td>0.482192</td>\n",
       "      <td>female</td>\n",
       "      <td>F196</td>\n",
       "      <td>-0.003498</td>\n",
       "      <td>0.957703</td>\n",
       "      <td>NaN</td>\n",
       "    </tr>\n",
       "    <tr>\n",
       "      <th>111</th>\n",
       "      <td>SRR27747761</td>\n",
       "      <td>Control</td>\n",
       "      <td>2.189041</td>\n",
       "      <td>male</td>\n",
       "      <td>F196</td>\n",
       "      <td>-0.007142</td>\n",
       "      <td>0.694732</td>\n",
       "      <td>NaN</td>\n",
       "    </tr>\n",
       "    <tr>\n",
       "      <th>148</th>\n",
       "      <td>SRR27747798</td>\n",
       "      <td>Control</td>\n",
       "      <td>16.087671</td>\n",
       "      <td>female</td>\n",
       "      <td>F102</td>\n",
       "      <td>-0.002070</td>\n",
       "      <td>0.551458</td>\n",
       "      <td>NaN</td>\n",
       "    </tr>\n",
       "    <tr>\n",
       "      <th>149</th>\n",
       "      <td>SRR27747799</td>\n",
       "      <td>Control</td>\n",
       "      <td>14.512329</td>\n",
       "      <td>female</td>\n",
       "      <td>F102</td>\n",
       "      <td>-0.002344</td>\n",
       "      <td>0.606822</td>\n",
       "      <td>White</td>\n",
       "    </tr>\n",
       "    <tr>\n",
       "      <th>153</th>\n",
       "      <td>SRR27747803</td>\n",
       "      <td>Control</td>\n",
       "      <td>22.975342</td>\n",
       "      <td>female</td>\n",
       "      <td>F125</td>\n",
       "      <td>-0.001818</td>\n",
       "      <td>0.551766</td>\n",
       "      <td>White</td>\n",
       "    </tr>\n",
       "    <tr>\n",
       "      <th>154</th>\n",
       "      <td>SRR27747804</td>\n",
       "      <td>Control</td>\n",
       "      <td>23.821918</td>\n",
       "      <td>male</td>\n",
       "      <td>F107</td>\n",
       "      <td>0.000650</td>\n",
       "      <td>0.565055</td>\n",
       "      <td>White</td>\n",
       "    </tr>\n",
       "    <tr>\n",
       "      <th>159</th>\n",
       "      <td>SRR27747809</td>\n",
       "      <td>Control</td>\n",
       "      <td>30.775342</td>\n",
       "      <td>male</td>\n",
       "      <td>F102</td>\n",
       "      <td>-0.000473</td>\n",
       "      <td>0.589209</td>\n",
       "      <td>White</td>\n",
       "    </tr>\n",
       "    <tr>\n",
       "      <th>163</th>\n",
       "      <td>SRR27747813</td>\n",
       "      <td>Control</td>\n",
       "      <td>29.547945</td>\n",
       "      <td>male</td>\n",
       "      <td>F115</td>\n",
       "      <td>-0.001170</td>\n",
       "      <td>0.515894</td>\n",
       "      <td>White</td>\n",
       "    </tr>\n",
       "    <tr>\n",
       "      <th>164</th>\n",
       "      <td>SRR27747814</td>\n",
       "      <td>Control</td>\n",
       "      <td>23.246575</td>\n",
       "      <td>female</td>\n",
       "      <td>F102</td>\n",
       "      <td>-0.004739</td>\n",
       "      <td>NaN</td>\n",
       "      <td>White</td>\n",
       "    </tr>\n",
       "    <tr>\n",
       "      <th>170</th>\n",
       "      <td>SRR27747820</td>\n",
       "      <td>Control</td>\n",
       "      <td>16.131507</td>\n",
       "      <td>male</td>\n",
       "      <td>F102</td>\n",
       "      <td>-0.000728</td>\n",
       "      <td>0.592743</td>\n",
       "      <td>White</td>\n",
       "    </tr>\n",
       "    <tr>\n",
       "      <th>179</th>\n",
       "      <td>SRR27747829</td>\n",
       "      <td>Control</td>\n",
       "      <td>31.397260</td>\n",
       "      <td>male</td>\n",
       "      <td>F196</td>\n",
       "      <td>-0.003575</td>\n",
       "      <td>0.699363</td>\n",
       "      <td>NaN</td>\n",
       "    </tr>\n",
       "    <tr>\n",
       "      <th>251</th>\n",
       "      <td>SRR27747901</td>\n",
       "      <td>Control</td>\n",
       "      <td>1.904110</td>\n",
       "      <td>female</td>\n",
       "      <td>F115</td>\n",
       "      <td>-0.001377</td>\n",
       "      <td>0.604881</td>\n",
       "      <td>NaN</td>\n",
       "    </tr>\n",
       "    <tr>\n",
       "      <th>255</th>\n",
       "      <td>SRR27747905</td>\n",
       "      <td>Control</td>\n",
       "      <td>6.824658</td>\n",
       "      <td>female</td>\n",
       "      <td>F115</td>\n",
       "      <td>-0.003441</td>\n",
       "      <td>0.568121</td>\n",
       "      <td>NaN</td>\n",
       "    </tr>\n",
       "    <tr>\n",
       "      <th>258</th>\n",
       "      <td>SRR27747908</td>\n",
       "      <td>Control</td>\n",
       "      <td>33.479452</td>\n",
       "      <td>female</td>\n",
       "      <td>F115</td>\n",
       "      <td>-0.004041</td>\n",
       "      <td>0.547771</td>\n",
       "      <td>NaN</td>\n",
       "    </tr>\n",
       "    <tr>\n",
       "      <th>260</th>\n",
       "      <td>SRR27747910</td>\n",
       "      <td>Control</td>\n",
       "      <td>31.901370</td>\n",
       "      <td>male</td>\n",
       "      <td>F115</td>\n",
       "      <td>-0.001955</td>\n",
       "      <td>0.553550</td>\n",
       "      <td>NaN</td>\n",
       "    </tr>\n",
       "    <tr>\n",
       "      <th>261</th>\n",
       "      <td>SRR27747911</td>\n",
       "      <td>Control</td>\n",
       "      <td>9.449315</td>\n",
       "      <td>male</td>\n",
       "      <td>F115</td>\n",
       "      <td>-0.002108</td>\n",
       "      <td>0.561441</td>\n",
       "      <td>NaN</td>\n",
       "    </tr>\n",
       "    <tr>\n",
       "      <th>262</th>\n",
       "      <td>SRR27747912</td>\n",
       "      <td>Control</td>\n",
       "      <td>4.556164</td>\n",
       "      <td>female</td>\n",
       "      <td>F115</td>\n",
       "      <td>-0.003532</td>\n",
       "      <td>0.581699</td>\n",
       "      <td>NaN</td>\n",
       "    </tr>\n",
       "    <tr>\n",
       "      <th>292</th>\n",
       "      <td>SRR27747942</td>\n",
       "      <td>Control</td>\n",
       "      <td>39.131507</td>\n",
       "      <td>male</td>\n",
       "      <td>F102</td>\n",
       "      <td>-0.002028</td>\n",
       "      <td>0.594381</td>\n",
       "      <td>White</td>\n",
       "    </tr>\n",
       "  </tbody>\n",
       "</table>\n",
       "</div>"
      ],
      "text/plain": [
       "             Run disease_group   host_age host_sex family_id  \\\n",
       "0    SRR27747650            CD  35.046575   female      F167   \n",
       "1    SRR27747651            CD  28.780822   female      F136   \n",
       "5    SRR27747655            CD  44.104110     male      F102   \n",
       "9    SRR27747659            CD  26.265753   female      F156   \n",
       "14   SRR27747664            CD  32.216438   female      F136   \n",
       "35   SRR27747685            CD  13.230137   female      F115   \n",
       "72   SRR27747722            CD  26.657534     male      F198   \n",
       "78   SRR27747728            CD  26.512329     male      F187   \n",
       "80   SRR27747730            CD  44.824658     male      F135   \n",
       "91   SRR27747741            CD  20.882192     male      F190   \n",
       "93   SRR27747743            CD  39.298630     male      F138   \n",
       "95   SRR27747745            CD  15.972603     male      F147   \n",
       "98   SRR27747748            CD  54.605479     male      F147   \n",
       "100  SRR27747750            CD   7.715068     male      F178   \n",
       "101  SRR27747751            CD  22.063014     male      F114   \n",
       "120  SRR27747770            CD  40.561644     male      F161   \n",
       "121  SRR27747771            CD  37.613699     male      F134   \n",
       "122  SRR27747772            CD  40.309589     male      F167   \n",
       "129  SRR27747779            CD  12.276712     male      F102   \n",
       "131  SRR27747781            CD  55.550685   female      F164   \n",
       "132  SRR27747782            CD  25.079452     male      F137   \n",
       "134  SRR27747784            CD  35.446575   female      F157   \n",
       "138  SRR27747788            CD  21.975342     male      F150   \n",
       "141  SRR27747791            CD  18.282192     male      F150   \n",
       "151  SRR27747801            CD  31.046575   female      F146   \n",
       "180  SRR27747830            CD  44.835616   female      F154   \n",
       "182  SRR27747832            CD  21.465753   female      F186   \n",
       "183  SRR27747833            CD  33.972603     male      F132   \n",
       "185  SRR27747835            CD  19.673973     male      F186   \n",
       "186  SRR27747836            CD  17.271233     male      F186   \n",
       "2    SRR27747652       Control  27.712329     male      F107   \n",
       "3    SRR27747653       Control  27.632877   female      F102   \n",
       "12   SRR27747662       Control  32.989041     male      F129   \n",
       "18   SRR27747668       Control  26.158904   female      F156   \n",
       "19   SRR27747669       Control  57.849315     male      F165   \n",
       "21   SRR27747671       Control  24.720548   female      F107   \n",
       "32   SRR27747682       Control  24.553425     male      F107   \n",
       "39   SRR27747689       Control  30.572603     male      F102   \n",
       "56   SRR27747706       Control  20.830137   female      F107   \n",
       "102  SRR27747752       Control   6.854795   female      F196   \n",
       "104  SRR27747754       Control   8.778082   female      F196   \n",
       "105  SRR27747755       Control  10.695890     male      F196   \n",
       "108  SRR27747758       Control   0.482192   female      F196   \n",
       "111  SRR27747761       Control   2.189041     male      F196   \n",
       "148  SRR27747798       Control  16.087671   female      F102   \n",
       "149  SRR27747799       Control  14.512329   female      F102   \n",
       "153  SRR27747803       Control  22.975342   female      F125   \n",
       "154  SRR27747804       Control  23.821918     male      F107   \n",
       "159  SRR27747809       Control  30.775342     male      F102   \n",
       "163  SRR27747813       Control  29.547945     male      F115   \n",
       "164  SRR27747814       Control  23.246575   female      F102   \n",
       "170  SRR27747820       Control  16.131507     male      F102   \n",
       "179  SRR27747829       Control  31.397260     male      F196   \n",
       "251  SRR27747901       Control   1.904110   female      F115   \n",
       "255  SRR27747905       Control   6.824658   female      F115   \n",
       "258  SRR27747908       Control  33.479452   female      F115   \n",
       "260  SRR27747910       Control  31.901370     male      F115   \n",
       "261  SRR27747911       Control   9.449315     male      F115   \n",
       "262  SRR27747912       Control   4.556164   female      F115   \n",
       "292  SRR27747942       Control  39.131507     male      F102   \n",
       "\n",
       "     Genetic_Risk_Score  Dysbiosis_Score ethnicity  \n",
       "0             -0.001274         0.708986     White  \n",
       "1             -0.002018         0.716442     White  \n",
       "5              0.000349         0.739528     White  \n",
       "9             -0.002612              NaN     White  \n",
       "14            -0.003308         0.900009     White  \n",
       "35            -0.003853         0.585463     White  \n",
       "72            -0.001305         0.799530       NaN  \n",
       "78            -0.002391         0.706355     White  \n",
       "80            -0.001400         0.602611     White  \n",
       "91             0.000611         0.936082       NaN  \n",
       "93            -0.000115         0.875586     White  \n",
       "95            -0.001430         0.707177       NaN  \n",
       "98             0.000399         0.668200     Black  \n",
       "100           -0.001955         0.846127     White  \n",
       "101           -0.001342         0.794160     White  \n",
       "120           -0.001451         0.696553     White  \n",
       "121                 NaN         0.615924       NaN  \n",
       "122           -0.003645         0.596148     White  \n",
       "129           -0.001359         0.779052     White  \n",
       "131           -0.001786         0.699385     White  \n",
       "132            0.000513         0.658913     White  \n",
       "134           -0.001172         0.583520     White  \n",
       "138            0.000034         0.622189       NaN  \n",
       "141           -0.002411         0.934728       NaN  \n",
       "151           -0.002867         0.585275       NaN  \n",
       "180           -0.000922         0.633724     White  \n",
       "182           -0.002631         0.898051     White  \n",
       "183           -0.001026         0.698344     White  \n",
       "185           -0.001782         0.668894     White  \n",
       "186            0.000022         0.606208     White  \n",
       "2              0.000134         0.594130     White  \n",
       "3             -0.004710         0.584956     White  \n",
       "12                  NaN         0.556428       NaN  \n",
       "18            -0.002219         0.680386     White  \n",
       "19            -0.004740         0.641605     White  \n",
       "21            -0.000766         0.573403       NaN  \n",
       "32            -0.003006         0.605864     White  \n",
       "39            -0.003793         0.521439     White  \n",
       "56            -0.001298         0.742072     White  \n",
       "102           -0.002442         0.588843       NaN  \n",
       "104           -0.004757         0.661006       NaN  \n",
       "105           -0.000613         0.661943       NaN  \n",
       "108           -0.003498         0.957703       NaN  \n",
       "111           -0.007142         0.694732       NaN  \n",
       "148           -0.002070         0.551458       NaN  \n",
       "149           -0.002344         0.606822     White  \n",
       "153           -0.001818         0.551766     White  \n",
       "154            0.000650         0.565055     White  \n",
       "159           -0.000473         0.589209     White  \n",
       "163           -0.001170         0.515894     White  \n",
       "164           -0.004739              NaN     White  \n",
       "170           -0.000728         0.592743     White  \n",
       "179           -0.003575         0.699363       NaN  \n",
       "251           -0.001377         0.604881       NaN  \n",
       "255           -0.003441         0.568121       NaN  \n",
       "258           -0.004041         0.547771       NaN  \n",
       "260           -0.001955         0.553550       NaN  \n",
       "261           -0.002108         0.561441       NaN  \n",
       "262           -0.003532         0.581699       NaN  \n",
       "292           -0.002028         0.594381     White  "
      ]
     },
     "execution_count": 7,
     "metadata": {},
     "output_type": "execute_result"
    }
   ],
   "source": [
    "samples_to_download[['Run', 'disease_group', 'host_age', 'host_sex', 'family_id', 'Genetic_Risk_Score', 'Dysbiosis_Score', 'ethnicity']] # Display the filtered Dataframe"
   ]
  },
  {
   "cell_type": "code",
   "execution_count": 36,
   "metadata": {
    "scrolled": false
   },
   "outputs": [
    {
     "name": "stdout",
     "output_type": "stream",
     "text": [
      "SRR27747650 already exists, skipping...\n",
      "Read 39823 spots for SRR27747651\n",
      "Written 39823 spots for SRR27747651\n",
      "Successfully downloaded SRR27747651\n",
      "Read 41788 spots for SRR27747655\n",
      "Written 41788 spots for SRR27747655\n",
      "Successfully downloaded SRR27747655\n",
      "Read 12067 spots for SRR27747659\n",
      "Written 12067 spots for SRR27747659\n",
      "Successfully downloaded SRR27747659\n",
      "Read 38666 spots for SRR27747664\n",
      "Written 38666 spots for SRR27747664\n",
      "Successfully downloaded SRR27747664\n",
      "Read 56497 spots for SRR27747685\n",
      "Written 56497 spots for SRR27747685\n",
      "Successfully downloaded SRR27747685\n",
      "Read 41494 spots for SRR27747722\n",
      "Written 41494 spots for SRR27747722\n",
      "Successfully downloaded SRR27747722\n",
      "Read 39694 spots for SRR27747728\n",
      "Written 39694 spots for SRR27747728\n",
      "Successfully downloaded SRR27747728\n",
      "Read 51469 spots for SRR27747730\n",
      "Written 51469 spots for SRR27747730\n",
      "Successfully downloaded SRR27747730\n",
      "Read 43560 spots for SRR27747741\n",
      "Written 43560 spots for SRR27747741\n",
      "Successfully downloaded SRR27747741\n",
      "Read 57528 spots for SRR27747743\n",
      "Written 57528 spots for SRR27747743\n",
      "Successfully downloaded SRR27747743\n",
      "Read 47245 spots for SRR27747745\n",
      "Written 47245 spots for SRR27747745\n",
      "Successfully downloaded SRR27747745\n",
      "Read 60172 spots for SRR27747748\n",
      "Written 60172 spots for SRR27747748\n",
      "Successfully downloaded SRR27747748\n",
      "Read 50604 spots for SRR27747750\n",
      "Written 50604 spots for SRR27747750\n",
      "Successfully downloaded SRR27747750\n",
      "Read 51760 spots for SRR27747751\n",
      "Written 51760 spots for SRR27747751\n",
      "Successfully downloaded SRR27747751\n",
      "Read 33923 spots for SRR27747770\n",
      "Written 33923 spots for SRR27747770\n",
      "Successfully downloaded SRR27747770\n",
      "Read 39689 spots for SRR27747771\n",
      "Written 39689 spots for SRR27747771\n",
      "Successfully downloaded SRR27747771\n",
      "Read 31302 spots for SRR27747772\n",
      "Written 31302 spots for SRR27747772\n",
      "Successfully downloaded SRR27747772\n",
      "Read 43978 spots for SRR27747779\n",
      "Written 43978 spots for SRR27747779\n",
      "Successfully downloaded SRR27747779\n",
      "Read 45455 spots for SRR27747781\n",
      "Written 45455 spots for SRR27747781\n",
      "Successfully downloaded SRR27747781\n",
      "Read 82935 spots for SRR27747782\n",
      "Written 82935 spots for SRR27747782\n",
      "Successfully downloaded SRR27747782\n",
      "Read 40462 spots for SRR27747784\n",
      "Written 40462 spots for SRR27747784\n",
      "Successfully downloaded SRR27747784\n",
      "Read 54395 spots for SRR27747788\n",
      "Written 54395 spots for SRR27747788\n",
      "Successfully downloaded SRR27747788\n",
      "Read 52637 spots for SRR27747791\n",
      "Written 52637 spots for SRR27747791\n",
      "Successfully downloaded SRR27747791\n",
      "Read 44684 spots for SRR27747801\n",
      "Written 44684 spots for SRR27747801\n",
      "Successfully downloaded SRR27747801\n",
      "Read 35505 spots for SRR27747830\n",
      "Written 35505 spots for SRR27747830\n",
      "Successfully downloaded SRR27747830\n",
      "Read 53248 spots for SRR27747832\n",
      "Written 53248 spots for SRR27747832\n",
      "Successfully downloaded SRR27747832\n",
      "Read 42592 spots for SRR27747833\n",
      "Written 42592 spots for SRR27747833\n",
      "Successfully downloaded SRR27747833\n",
      "Read 31786 spots for SRR27747835\n",
      "Written 31786 spots for SRR27747835\n",
      "Successfully downloaded SRR27747835\n",
      "Read 44400 spots for SRR27747836\n",
      "Written 44400 spots for SRR27747836\n",
      "Successfully downloaded SRR27747836\n",
      "Read 32778 spots for SRR27747652\n",
      "Written 32778 spots for SRR27747652\n",
      "Successfully downloaded SRR27747652\n",
      "Read 40263 spots for SRR27747653\n",
      "Written 40263 spots for SRR27747653\n",
      "Successfully downloaded SRR27747653\n",
      "Read 53097 spots for SRR27747662\n",
      "Written 53097 spots for SRR27747662\n",
      "Successfully downloaded SRR27747662\n",
      "Read 49500 spots for SRR27747668\n",
      "Written 49500 spots for SRR27747668\n",
      "Successfully downloaded SRR27747668\n",
      "Read 41865 spots for SRR27747669\n",
      "Written 41865 spots for SRR27747669\n",
      "Successfully downloaded SRR27747669\n",
      "Read 42229 spots for SRR27747671\n",
      "Written 42229 spots for SRR27747671\n",
      "Successfully downloaded SRR27747671\n",
      "Read 45633 spots for SRR27747682\n",
      "Written 45633 spots for SRR27747682\n",
      "Successfully downloaded SRR27747682\n",
      "Read 45897 spots for SRR27747689\n",
      "Written 45897 spots for SRR27747689\n",
      "Successfully downloaded SRR27747689\n",
      "Read 37622 spots for SRR27747706\n",
      "Written 37622 spots for SRR27747706\n",
      "Successfully downloaded SRR27747706\n",
      "Read 48363 spots for SRR27747752\n",
      "Written 48363 spots for SRR27747752\n",
      "Successfully downloaded SRR27747752\n",
      "Read 52523 spots for SRR27747754\n",
      "Written 52523 spots for SRR27747754\n",
      "Successfully downloaded SRR27747754\n",
      "Read 64215 spots for SRR27747755\n",
      "Written 64215 spots for SRR27747755\n",
      "Successfully downloaded SRR27747755\n",
      "Read 46814 spots for SRR27747758\n",
      "Written 46814 spots for SRR27747758\n",
      "Successfully downloaded SRR27747758\n",
      "Read 78553 spots for SRR27747761\n",
      "Written 78553 spots for SRR27747761\n",
      "Successfully downloaded SRR27747761\n",
      "Read 49721 spots for SRR27747798\n",
      "Written 49721 spots for SRR27747798\n",
      "Successfully downloaded SRR27747798\n",
      "Read 41507 spots for SRR27747799\n",
      "Written 41507 spots for SRR27747799\n",
      "Successfully downloaded SRR27747799\n",
      "Read 32371 spots for SRR27747803\n",
      "Written 32371 spots for SRR27747803\n",
      "Successfully downloaded SRR27747803\n",
      "Read 28078 spots for SRR27747804\n",
      "Written 28078 spots for SRR27747804\n",
      "Successfully downloaded SRR27747804\n",
      "Read 43352 spots for SRR27747809\n",
      "Written 43352 spots for SRR27747809\n",
      "Successfully downloaded SRR27747809\n",
      "Read 40625 spots for SRR27747813\n",
      "Written 40625 spots for SRR27747813\n",
      "Successfully downloaded SRR27747813\n",
      "Read 22327 spots for SRR27747814\n",
      "Written 22327 spots for SRR27747814\n",
      "Successfully downloaded SRR27747814\n",
      "Read 39551 spots for SRR27747820\n",
      "Written 39551 spots for SRR27747820\n",
      "Successfully downloaded SRR27747820\n",
      "Read 45212 spots for SRR27747829\n",
      "Written 45212 spots for SRR27747829\n",
      "Successfully downloaded SRR27747829\n",
      "Read 41330 spots for SRR27747901\n",
      "Written 41330 spots for SRR27747901\n",
      "Successfully downloaded SRR27747901\n",
      "Read 47786 spots for SRR27747905\n",
      "Written 47786 spots for SRR27747905\n",
      "Successfully downloaded SRR27747905\n",
      "Read 44597 spots for SRR27747908\n",
      "Written 44597 spots for SRR27747908\n",
      "Successfully downloaded SRR27747908\n",
      "Read 39970 spots for SRR27747910\n",
      "Written 39970 spots for SRR27747910\n",
      "Successfully downloaded SRR27747910\n",
      "Read 36811 spots for SRR27747911\n",
      "Written 36811 spots for SRR27747911\n",
      "Successfully downloaded SRR27747911\n",
      "Read 47784 spots for SRR27747912\n",
      "Written 47784 spots for SRR27747912\n",
      "Successfully downloaded SRR27747912\n",
      "Read 47923 spots for SRR27747942\n",
      "Written 47923 spots for SRR27747942\n",
      "Successfully downloaded SRR27747942\n",
      "Download complete!\n"
     ]
    }
   ],
   "source": [
    "output_dir = os.path.expanduser(\"~/metagenomics/16S_rRNA_fastq\")\n",
    "\n",
    "for run_id in samples_to_download['Run']:\n",
    "    output_file = os.path.join(output_dir, f\"{run_id}.fastq\")\n",
    "    \n",
    "    \n",
    "    if os.path.exists(output_file):\n",
    "        print(f\"{run_id} already exists, skipping...\")\n",
    "        continue\n",
    "\n",
    "    sra_command = f\"fastq-dump --outdir {output_dir} {run_id}\"\n",
    "\n",
    "    try:\n",
    "        subprocess.check_call(sra_command, shell=True)\n",
    "        print(f\"Successfully downloaded {run_id}\")\n",
    "    except subprocess.CalledProcessError as e:\n",
    "        print(f\"Error occurred while downloading {run_id}: {e}\")\n",
    "\n",
    "print(\"Download complete!\")\n"
   ]
  },
  {
   "cell_type": "markdown",
   "metadata": {},
   "source": [
    "**Zip the fastq files** "
   ]
  },
  {
   "cell_type": "code",
   "execution_count": null,
   "metadata": {},
   "outputs": [],
   "source": [
    "!gzip ~/metagenomics/16S_rRNA_fastq/*.fastq"
   ]
  },
  {
   "cell_type": "markdown",
   "metadata": {},
   "source": [
    "#### Inspecting the fastq files---single/paired-end reads"
   ]
  },
  {
   "cell_type": "code",
   "execution_count": 59,
   "metadata": {},
   "outputs": [
    {
     "name": "stdout",
     "output_type": "stream",
     "text": [
      "@SRR27747650.1 M01925:291:GW190114000:1:2105:18051:2021 length=500\r\n",
      "TACGTATGGAGCAAGCGTTATCCGGATTTACTGGGTGTAAAGGGAGCGTAGACGGCAAGGCAAGTCTGATGTGAAAACCCAGGGCTTAACCCTGGGACTGCATTGGAAACTGTCTGGCTCGAGTGCCGGAGAGGTAAGCGGAATTCCTAGTGTAGCGGTGAAATGCGTAGATATTAGGAAGAACACCAGTGGCGAAGGCGGCTTACTGGACGGTAACTGACGTTGAGGCTCGAAAGCGTGGGGAGCAAACCCTGTTTGCTCCCCACGCTTTCGAGCCTCAACGTCAGTTACCGTCCAGTAAGCCGCCTTCGCCACTGGTGTTCTTCCTAATATCTACGCATTTCACCGCTACACTAGGAATTCCGCTTACCTCTCCGGCACTCGAGCCAGACAGTTTCCAATGCAGTCCCAGGGTTAAGCCCTGGGTTTTCACATCAGACTTGCCTTGCCGTCTACGCTCCCTTTACACCCAGTAAATCCGGATAACGCTTGCTCCATAC\r\n",
      "+SRR27747650.1 M01925:291:GW190114000:1:2105:18051:2021 length=500\r\n",
      "BBCBAFFFFFFFCGGGFGGGGGHGGGGGHHGHHGDBEGHHHHHGHGGGGGGGHGGGGEFGHHHGHFHHHHHHHHHHFFEFEHGGEHHHHHHHHHHGHHHHHHHHHHHHHHHHHHGHBGHHGGGHCHHGG//>AGHHHHHGGGGGHHHHGHHHHHHHGGGDGHHGHHGGGGFHHHHHGGHHGFFGGGGGGGGGGGGGGGGGFFFFFFFFFFFFFFFFFFFFFFFFFFFFEFFFFFDDFD.ABFAFFFEFF?BBBAAFFFFFFFGGGGCFGGGGEFHGGHHHFHFHHGGHHHHHGGGGGHHHHHHGFGGGGHFFEGGHGHGHHGHHHGHHGHHHHHHHGGGGGGHHHHHGEGGGGHHHHGHHHHHHGGGGGHHHHGHHDGCGGHH/?EGGHHHGGHHHHHHHHHHHHHHHHHHHGGHHHHHHGHGHHGGEEGFHHGHHHHGFGGBBFFFGGGGGGFGGGGGDGGGGFFFFFFFEAFEFFFFFFDDFFFFFFFFFFEFFB;FF\r\n",
      "@SRR27747650.2 M01925:291:GW190114000:1:2105:10886:2192 length=500\r\n",
      "TACGTAGGTGACAAGCGTTGTCCGGATTTACTGGGTGTAAAGGGCGCGTAGGCGGACTGTCAAGTCAGTCGTGAAATACCGGGGCTTAACCCCGGGGCTGCGATTGAAACTGACAGCCTTGAGTATCGGAGAGGAAAGCGGAATTCCTAGTGTAGCGGTGAAATGCGTAGATATTAGGAGGAACACCAGTGGCGAAGGCGGCTTACTGAACGATAACTGACGCTGAGGCTCGAAAGCGTGGGGAGCAAACCCTGTTTGCTCCCCACGCTTTCGAGCCTCAGCGTCAGTTATCGTTCAGTAAGCCGCCTTCGCCACTGGTGTTCCTCCTAATATCTACGCATTTCACCGCTACACTAGGAATTCCGCTTTCCTCTCCGATACTCAAGGCTGTCAGTTTCAATCGCAGCCCCGGGGTTAAGCCCCGGTATTTCACGACTGACTTGACAGTCCGCCTACGCGCCCTTTACACCCAGTAAATCCGGACAACGCTTGTCACCTAC\r\n",
      "+SRR27747650.2 M01925:291:GW190114000:1:2105:10886:2192 length=500\r\n",
      "CCCCCFFCFFFFFGGGGGGGGGHGGGFGHHGHHHHHEGHHHFHGGGGGGGGGHGGGGGHHHHGGHHHHHHGGGFFGHGGHF/EGEFHHGFHHGGCGGDGGGGGHHGHHHHHHFHHHGHHHHFGHHHHCGDCCGGHHHHHGGCDEGGGGBFFGGGGGGGGGEGGBCGAE.BEFFFFFFFFFFFFFFFFFFFFFFFAC=DEFF@AFFFFF9/BFFFFFFFFEFFFFD?AEAFFCBBADFFFFFFFF;FEFFF3>AAAFFFFFFFGGGGGGGGGGEFFEGHHHGGGGGGDHHGHHHHHHHHHGHFGFEFFGGHCEEGGHHBGFGEHHHHHHHFGHHHHHHFEEGGHGGHHGEGEGHHHEEGHHGHHHHGGGGHHHHHHHGCEGGGHGHHHHHHHHHHHHHHHHHHGGGGCHGGGGGFGGHHHHGEFGFGACFGGEGEDGGGGGGGGFGGGGGFFFFFFFDFFCFFFFFFFFFFFFFFFFFFFFF;DFFFFFFFFFF99FFFFF\r\n",
      "@SRR27747650.3 M01925:291:GW190114000:1:2105:10768:2270 length=500\r\n",
      "TACGTAGGGGGCAAGCGTTATCCGGAATTACTGGGTGTAAAGGGTGCGTAGGTGGTATGGCAAGTCAGAAGTGAAAACCCAGGGCTTAACTCTGGGACTGCTTTTGAAACTGTCAGACTGGAGTGCAGGAGAGGTAAGCGGAATTCCTAGTGTAGCGGTGAAATGCGTAGATATTAGGAGGAACATCAGTGGCGAAGGCGGCTTACTGGACTGAAACTGACACTGAGGCACGAAAGCGTGGGGAGCAAACCCTGTTTGCTCCCCACGCTTTCGTGCCTCAGTGTCAGTTTCAGTCCAGTAAGCCGCCTTCGCCACTGATGTTCCTCCTAATATCTACGCATTTCACCGCTACACTAGGAATTCCGCTTACCTCTCCTGCACTCCAGTCTGACAGTTTCAAAAGCAGTCCCAGAGTTAAGCCCTGGGTTTTCACTTCTGACTTGCCATACCACCTACGCACCCTTTACACCCAGTAATTCCGGATAACGCTTGCCCCCTAC\r\n",
      "\r\n",
      "gzip: stdout: Broken pipe\r\n"
     ]
    }
   ],
   "source": [
    "!zcat SRR27747650.fastq.gz | head -n 10"
   ]
  },
  {
   "cell_type": "markdown",
   "metadata": {},
   "source": [
    "#### Import qiime artifact\n",
    "\n",
    "**The sequence format we see above are either single-end reads or fused (forward and reverse) with 250 bp for each sides. We will use single-read format to import qiime2 artifacts**"
   ]
  },
  {
   "cell_type": "code",
   "execution_count": 12,
   "metadata": {},
   "outputs": [
    {
     "name": "stdout",
     "output_type": "stream",
     "text": [
      "\u001b[32mImported /home/tadi/metagenomics/16S_rRNA_fastq/manifest.tsv as SingleEndFastqManifestPhred33V2 to demux-single-end.qza\u001b[0m\n",
      "\u001b[0m"
     ]
    }
   ],
   "source": [
    "!qiime tools import \\\n",
    "  --type 'SampleData[SequencesWithQuality]' \\\n",
    "  --input-path ~/metagenomics/16S_rRNA_fastq/manifest.tsv \\\n",
    "  --input-format SingleEndFastqManifestPhred33V2 \\\n",
    "  --output-path demux-single-end.qza\n"
   ]
  },
  {
   "cell_type": "code",
   "execution_count": 13,
   "metadata": {},
   "outputs": [
    {
     "name": "stdout",
     "output_type": "stream",
     "text": [
      "\u001b[32mSaved Visualization to: single-end-demux.qzv\u001b[0m\n",
      "\u001b[0m"
     ]
    }
   ],
   "source": [
    "!qiime demux summarize \\\n",
    "  --i-data demux-single-end.qza \\\n",
    "  --o-visualization single-end-demux.qzv"
   ]
  },
  {
   "cell_type": "code",
   "execution_count": 6,
   "metadata": {
    "scrolled": true
   },
   "outputs": [
    {
     "data": {
      "text/html": [
       "<div><img onload=\"(function(div, url){\n",
       "if (typeof require !== 'undefined') {\n",
       "    var baseURL = require.toUrl('').split('/').slice(0, -2).join('/');\n",
       "} else {\n",
       "    var baseURL = JSON.parse(\n",
       "        document.getElementById('jupyter-config-data').innerHTML\n",
       "    ).baseUrl.slice(0, -1);\n",
       "}\n",
       "url = baseURL + url;\n",
       "fetch(url).then(function(res) {\n",
       "    if (res.status === 404) {\n",
       "        div.innerHTML = 'Install QIIME 2 Jupyter extension with:<br />' +\n",
       "                        '<code>jupyter serverextension enable --py qiime2' +\n",
       "                        ' --sys-prefix</code><br />then restart your server.' +\n",
       "                        '<br /><br />(Interactive output not available on ' +\n",
       "                        'static notebook viewer services like nbviewer.)';\n",
       "    } else if (res.status === 409) {\n",
       "        div.innerHTML = 'Visualization no longer in scope. Re-run this cell' +\n",
       "                        ' to see the visualization.';\n",
       "    } else if (res.ok) {\n",
       "        url = res.url;\n",
       "        div.innerHTML = '<iframe src=\\'' + url + '\\' style=\\'' +\n",
       "                        'width: 100%; height: 700px; border: 0;\\'>' +\n",
       "                        '</iframe><hr />Open in a: <a href=\\'' + url + '\\'' +\n",
       "                        ' target=\\'_blank\\'>new window</a>'\n",
       "    } else {\n",
       "        div.innerHTML = 'Something has gone wrong. Check notebook server for' +\n",
       "                        ' errors.';\n",
       "    }\n",
       "});\n",
       "})(this.parentElement, '/qiime2/redirect?location=/tmp/qiime2/tadi/data/c50bcc62-ed18-4119-a791-9100e8df8415')\" src=\"data:image/gif;base64,R0lGODlhAQABAIAAAP///wAAACH5BAEAAAAALAAAAAABAAEAAAICRAEAOw==\" /></div>"
      ],
      "text/plain": [
       "<visualization: Visualization uuid: c50bcc62-ed18-4119-a791-9100e8df8415>"
      ]
     },
     "execution_count": 6,
     "metadata": {},
     "output_type": "execute_result"
    }
   ],
   "source": [
    "# Load the .qzv visualization file and display\n",
    "viz = qiime2.Visualization.load('single-end-demux.qzv')\n",
    "viz"
   ]
  },
  {
   "cell_type": "markdown",
   "metadata": {},
   "source": [
    " ## Quality control: use dada2 to denoise and generate ASVs\n",
    " \n",
    " We will use dada2 to denoise and generate the amplicon sequence variants (ASV) files. Based on the quality plot above we will truncate at read length of 150 and also filter-out reads with quality score below 20."
   ]
  },
  {
   "cell_type": "code",
   "execution_count": 15,
   "metadata": {},
   "outputs": [
    {
     "name": "stdout",
     "output_type": "stream",
     "text": [
      "\u001b[32mSaved FeatureTable[Frequency] to: table.qza\u001b[0m\n",
      "\u001b[32mSaved FeatureData[Sequence] to: rep-seqs.qza\u001b[0m\n",
      "\u001b[32mSaved SampleData[DADA2Stats] to: denoising-stats.qza\u001b[0m\n",
      "\u001b[0m"
     ]
    }
   ],
   "source": [
    "!qiime dada2 denoise-single \\\n",
    "  --i-demultiplexed-seqs demux-single-end.qza \\\n",
    "  --p-trunc-len 150 \\\n",
    "  --p-trim-left 0 \\\n",
    "  --p-trunc-q 20 \\\n",
    "  --o-table table.qza \\\n",
    "  --o-representative-sequences rep-seqs.qza \\\n",
    "  --o-denoising-stats denoising-stats.qza\n"
   ]
  },
  {
   "cell_type": "markdown",
   "metadata": {},
   "source": [
    "### Visualize the quality of the denoised result"
   ]
  },
  {
   "cell_type": "code",
   "execution_count": 16,
   "metadata": {},
   "outputs": [
    {
     "name": "stdout",
     "output_type": "stream",
     "text": [
      "\u001b[32mSaved Visualization to: denoising-stats.qzv\u001b[0m\r\n",
      "\u001b[0m"
     ]
    }
   ],
   "source": [
    "!qiime metadata tabulate \\\n",
    "  --m-input-file denoising-stats.qza \\\n",
    "  --o-visualization denoising-stats.qzv\n"
   ]
  },
  {
   "cell_type": "code",
   "execution_count": 7,
   "metadata": {
    "scrolled": true
   },
   "outputs": [
    {
     "data": {
      "text/html": [
       "<div><img onload=\"(function(div, url){\n",
       "if (typeof require !== 'undefined') {\n",
       "    var baseURL = require.toUrl('').split('/').slice(0, -2).join('/');\n",
       "} else {\n",
       "    var baseURL = JSON.parse(\n",
       "        document.getElementById('jupyter-config-data').innerHTML\n",
       "    ).baseUrl.slice(0, -1);\n",
       "}\n",
       "url = baseURL + url;\n",
       "fetch(url).then(function(res) {\n",
       "    if (res.status === 404) {\n",
       "        div.innerHTML = 'Install QIIME 2 Jupyter extension with:<br />' +\n",
       "                        '<code>jupyter serverextension enable --py qiime2' +\n",
       "                        ' --sys-prefix</code><br />then restart your server.' +\n",
       "                        '<br /><br />(Interactive output not available on ' +\n",
       "                        'static notebook viewer services like nbviewer.)';\n",
       "    } else if (res.status === 409) {\n",
       "        div.innerHTML = 'Visualization no longer in scope. Re-run this cell' +\n",
       "                        ' to see the visualization.';\n",
       "    } else if (res.ok) {\n",
       "        url = res.url;\n",
       "        div.innerHTML = '<iframe src=\\'' + url + '\\' style=\\'' +\n",
       "                        'width: 100%; height: 700px; border: 0;\\'>' +\n",
       "                        '</iframe><hr />Open in a: <a href=\\'' + url + '\\'' +\n",
       "                        ' target=\\'_blank\\'>new window</a>'\n",
       "    } else {\n",
       "        div.innerHTML = 'Something has gone wrong. Check notebook server for' +\n",
       "                        ' errors.';\n",
       "    }\n",
       "});\n",
       "})(this.parentElement, '/qiime2/redirect?location=/tmp/qiime2/tadi/data/095a091e-846e-4614-ae29-76ae2f917fbb')\" src=\"data:image/gif;base64,R0lGODlhAQABAIAAAP///wAAACH5BAEAAAAALAAAAAABAAEAAAICRAEAOw==\" /></div>"
      ],
      "text/plain": [
       "<visualization: Visualization uuid: 095a091e-846e-4614-ae29-76ae2f917fbb>"
      ]
     },
     "execution_count": 7,
     "metadata": {},
     "output_type": "execute_result"
    }
   ],
   "source": [
    "# visualization of the denoised file \n",
    "viz = qiime2.Visualization.load('denoising-stats.qzv')\n",
    "viz"
   ]
  },
  {
   "cell_type": "code",
   "execution_count": 19,
   "metadata": {},
   "outputs": [
    {
     "name": "stdout",
     "output_type": "stream",
     "text": [
      "\u001b[32mSaved Visualization to: table.qzv\u001b[0m\r\n",
      "\u001b[0m"
     ]
    }
   ],
   "source": [
    "!qiime feature-table summarize \\\n",
    "  --i-table table.qza \\\n",
    "  --o-visualization table.qzv\n"
   ]
  },
  {
   "cell_type": "markdown",
   "metadata": {},
   "source": [
    "#### Visualize the feature-table"
   ]
  },
  {
   "cell_type": "code",
   "execution_count": 3,
   "metadata": {
    "scrolled": false
   },
   "outputs": [
    {
     "data": {
      "text/html": [
       "<div><img onload=\"(function(div, url){\n",
       "if (typeof require !== 'undefined') {\n",
       "    var baseURL = require.toUrl('').split('/').slice(0, -2).join('/');\n",
       "} else {\n",
       "    var baseURL = JSON.parse(\n",
       "        document.getElementById('jupyter-config-data').innerHTML\n",
       "    ).baseUrl.slice(0, -1);\n",
       "}\n",
       "url = baseURL + url;\n",
       "fetch(url).then(function(res) {\n",
       "    if (res.status === 404) {\n",
       "        div.innerHTML = 'Install QIIME 2 Jupyter extension with:<br />' +\n",
       "                        '<code>jupyter serverextension enable --py qiime2' +\n",
       "                        ' --sys-prefix</code><br />then restart your server.' +\n",
       "                        '<br /><br />(Interactive output not available on ' +\n",
       "                        'static notebook viewer services like nbviewer.)';\n",
       "    } else if (res.status === 409) {\n",
       "        div.innerHTML = 'Visualization no longer in scope. Re-run this cell' +\n",
       "                        ' to see the visualization.';\n",
       "    } else if (res.ok) {\n",
       "        url = res.url;\n",
       "        div.innerHTML = '<iframe src=\\'' + url + '\\' style=\\'' +\n",
       "                        'width: 100%; height: 700px; border: 0;\\'>' +\n",
       "                        '</iframe><hr />Open in a: <a href=\\'' + url + '\\'' +\n",
       "                        ' target=\\'_blank\\'>new window</a>'\n",
       "    } else {\n",
       "        div.innerHTML = 'Something has gone wrong. Check notebook server for' +\n",
       "                        ' errors.';\n",
       "    }\n",
       "});\n",
       "})(this.parentElement, '/qiime2/redirect?location=/tmp/qiime2/tadi/data/458081fd-5e35-46cc-8ff5-4ba742e40327')\" src=\"data:image/gif;base64,R0lGODlhAQABAIAAAP///wAAACH5BAEAAAAALAAAAAABAAEAAAICRAEAOw==\" /></div>"
      ],
      "text/plain": [
       "<visualization: Visualization uuid: 458081fd-5e35-46cc-8ff5-4ba742e40327>"
      ]
     },
     "execution_count": 3,
     "metadata": {},
     "output_type": "execute_result"
    }
   ],
   "source": [
    "viz = qiime2.Visualization.load('table.qzv')\n",
    "viz"
   ]
  },
  {
   "cell_type": "markdown",
   "metadata": {},
   "source": [
    "**Generate the representative sequences**"
   ]
  },
  {
   "cell_type": "code",
   "execution_count": 22,
   "metadata": {},
   "outputs": [
    {
     "name": "stdout",
     "output_type": "stream",
     "text": [
      "\u001b[32mSaved Visualization to: rep-seqs.qzv\u001b[0m\r\n",
      "\u001b[0m"
     ]
    }
   ],
   "source": [
    "!qiime feature-table tabulate-seqs \\\n",
    "  --i-data rep-seqs.qza \\\n",
    "  --o-visualization rep-seqs.qzv\n"
   ]
  },
  {
   "cell_type": "markdown",
   "metadata": {},
   "source": [
    "#### Visualiaz the rep-seqs"
   ]
  },
  {
   "cell_type": "code",
   "execution_count": 12,
   "metadata": {
    "scrolled": false
   },
   "outputs": [
    {
     "data": {
      "text/html": [
       "<div><img onload=\"(function(div, url){\n",
       "if (typeof require !== 'undefined') {\n",
       "    var baseURL = require.toUrl('').split('/').slice(0, -2).join('/');\n",
       "} else {\n",
       "    var baseURL = JSON.parse(\n",
       "        document.getElementById('jupyter-config-data').innerHTML\n",
       "    ).baseUrl.slice(0, -1);\n",
       "}\n",
       "url = baseURL + url;\n",
       "fetch(url).then(function(res) {\n",
       "    if (res.status === 404) {\n",
       "        div.innerHTML = 'Install QIIME 2 Jupyter extension with:<br />' +\n",
       "                        '<code>jupyter serverextension enable --py qiime2' +\n",
       "                        ' --sys-prefix</code><br />then restart your server.' +\n",
       "                        '<br /><br />(Interactive output not available on ' +\n",
       "                        'static notebook viewer services like nbviewer.)';\n",
       "    } else if (res.status === 409) {\n",
       "        div.innerHTML = 'Visualization no longer in scope. Re-run this cell' +\n",
       "                        ' to see the visualization.';\n",
       "    } else if (res.ok) {\n",
       "        url = res.url;\n",
       "        div.innerHTML = '<iframe src=\\'' + url + '\\' style=\\'' +\n",
       "                        'width: 100%; height: 700px; border: 0;\\'>' +\n",
       "                        '</iframe><hr />Open in a: <a href=\\'' + url + '\\'' +\n",
       "                        ' target=\\'_blank\\'>new window</a>'\n",
       "    } else {\n",
       "        div.innerHTML = 'Something has gone wrong. Check notebook server for' +\n",
       "                        ' errors.';\n",
       "    }\n",
       "});\n",
       "})(this.parentElement, '/qiime2/redirect?location=/tmp/qiime2/tadi/data/912196e7-453c-40ed-9f62-694f724c9a8f')\" src=\"data:image/gif;base64,R0lGODlhAQABAIAAAP///wAAACH5BAEAAAAALAAAAAABAAEAAAICRAEAOw==\" /></div>"
      ],
      "text/plain": [
       "<visualization: Visualization uuid: 912196e7-453c-40ed-9f62-694f724c9a8f>"
      ]
     },
     "execution_count": 12,
     "metadata": {},
     "output_type": "execute_result"
    }
   ],
   "source": [
    "\n",
    "viz = qiime2.Visualization.load('rep-seqs.qzv')\n",
    "viz\n"
   ]
  },
  {
   "cell_type": "markdown",
   "metadata": {},
   "source": [
    "## Taxonomy Assignment: using pre-trained reference Silva classifier\n",
    "\n",
    "I used qiime2-2024.5 version for this analysis and one can get a pre-trained Silva classifier that matches qiime2-2024.5 using the command @ !wget https://data.qiime2.org/classifiers/sklearn-1.4.2/silva/silva-138-99-nb-classifier.qza"
   ]
  },
  {
   "cell_type": "code",
   "execution_count": null,
   "metadata": {},
   "outputs": [],
   "source": [
    "!qiime feature-classifier classify-sklearn \\\n",
    "  --i-classifier silva-138-99-nb-classifier.qza \\\n",
    "  --i-reads rep-seqs.qza \\\n",
    "  --o-classification taxonomy.qza\n",
    "  \n"
   ]
  },
  {
   "cell_type": "code",
   "execution_count": 27,
   "metadata": {},
   "outputs": [
    {
     "name": "stdout",
     "output_type": "stream",
     "text": [
      "\u001b[32mSaved Visualization to: taxonomy.qzv\u001b[0m\n",
      "\u001b[0m"
     ]
    }
   ],
   "source": [
    "!qiime metadata tabulate \\\n",
    "  --m-input-file taxonomy.qza \\\n",
    "  --o-visualization taxonomy.qzv"
   ]
  },
  {
   "cell_type": "code",
   "execution_count": 10,
   "metadata": {},
   "outputs": [
    {
     "data": {
      "text/html": [
       "<div><img onload=\"(function(div, url){\n",
       "if (typeof require !== 'undefined') {\n",
       "    var baseURL = require.toUrl('').split('/').slice(0, -2).join('/');\n",
       "} else {\n",
       "    var baseURL = JSON.parse(\n",
       "        document.getElementById('jupyter-config-data').innerHTML\n",
       "    ).baseUrl.slice(0, -1);\n",
       "}\n",
       "url = baseURL + url;\n",
       "fetch(url).then(function(res) {\n",
       "    if (res.status === 404) {\n",
       "        div.innerHTML = 'Install QIIME 2 Jupyter extension with:<br />' +\n",
       "                        '<code>jupyter serverextension enable --py qiime2' +\n",
       "                        ' --sys-prefix</code><br />then restart your server.' +\n",
       "                        '<br /><br />(Interactive output not available on ' +\n",
       "                        'static notebook viewer services like nbviewer.)';\n",
       "    } else if (res.status === 409) {\n",
       "        div.innerHTML = 'Visualization no longer in scope. Re-run this cell' +\n",
       "                        ' to see the visualization.';\n",
       "    } else if (res.ok) {\n",
       "        url = res.url;\n",
       "        div.innerHTML = '<iframe src=\\'' + url + '\\' style=\\'' +\n",
       "                        'width: 100%; height: 700px; border: 0;\\'>' +\n",
       "                        '</iframe><hr />Open in a: <a href=\\'' + url + '\\'' +\n",
       "                        ' target=\\'_blank\\'>new window</a>'\n",
       "    } else {\n",
       "        div.innerHTML = 'Something has gone wrong. Check notebook server for' +\n",
       "                        ' errors.';\n",
       "    }\n",
       "});\n",
       "})(this.parentElement, '/qiime2/redirect?location=/tmp/qiime2/tadi/data/712ba594-52b3-494d-8590-90b5f8b2ba6b')\" src=\"data:image/gif;base64,R0lGODlhAQABAIAAAP///wAAACH5BAEAAAAALAAAAAABAAEAAAICRAEAOw==\" /></div>"
      ],
      "text/plain": [
       "<visualization: Visualization uuid: 712ba594-52b3-494d-8590-90b5f8b2ba6b>"
      ]
     },
     "execution_count": 10,
     "metadata": {},
     "output_type": "execute_result"
    }
   ],
   "source": [
    "# Load and display the taxons\n",
    "viz = qiime2.Visualization.load('taxonomy.qzv')\n",
    "viz"
   ]
  },
  {
   "cell_type": "markdown",
   "metadata": {},
   "source": [
    "*Note that recent Silva classifiers like the one used here have depracated species level resolution for 16S rRNA samples (too similar at the species level to even detect meaningfull difference); as that leads to false positives!* The taxa bar plot will help us assess relative abundance of microbial taxon between samples or accross groups like CD/healthy. The colors within the bars corresponds to different taxonomic groups helping us identify dominant taxa and detect shifts in microbiota associated with disease states or other variables. "
   ]
  },
  {
   "cell_type": "code",
   "execution_count": 33,
   "metadata": {},
   "outputs": [
    {
     "name": "stdout",
     "output_type": "stream",
     "text": [
      "\u001b[32mSaved Visualization to: taxa-barplot.qzv\u001b[0m\r\n",
      "\u001b[0m"
     ]
    }
   ],
   "source": [
    "!qiime taxa barplot \\\n",
    "  --i-table table.qza \\\n",
    "  --i-taxonomy taxonomy.qza \\\n",
    "  --m-metadata-file metadata.tsv \\\n",
    "  --o-visualization taxa-barplot.qzv\n"
   ]
  },
  {
   "cell_type": "code",
   "execution_count": 15,
   "metadata": {
    "scrolled": true
   },
   "outputs": [
    {
     "data": {
      "text/html": [
       "<div><img onload=\"(function(div, url){\n",
       "if (typeof require !== 'undefined') {\n",
       "    var baseURL = require.toUrl('').split('/').slice(0, -2).join('/');\n",
       "} else {\n",
       "    var baseURL = JSON.parse(\n",
       "        document.getElementById('jupyter-config-data').innerHTML\n",
       "    ).baseUrl.slice(0, -1);\n",
       "}\n",
       "url = baseURL + url;\n",
       "fetch(url).then(function(res) {\n",
       "    if (res.status === 404) {\n",
       "        div.innerHTML = 'Install QIIME 2 Jupyter extension with:<br />' +\n",
       "                        '<code>jupyter serverextension enable --py qiime2' +\n",
       "                        ' --sys-prefix</code><br />then restart your server.' +\n",
       "                        '<br /><br />(Interactive output not available on ' +\n",
       "                        'static notebook viewer services like nbviewer.)';\n",
       "    } else if (res.status === 409) {\n",
       "        div.innerHTML = 'Visualization no longer in scope. Re-run this cell' +\n",
       "                        ' to see the visualization.';\n",
       "    } else if (res.ok) {\n",
       "        url = res.url;\n",
       "        div.innerHTML = '<iframe src=\\'' + url + '\\' style=\\'' +\n",
       "                        'width: 100%; height: 700px; border: 0;\\'>' +\n",
       "                        '</iframe><hr />Open in a: <a href=\\'' + url + '\\'' +\n",
       "                        ' target=\\'_blank\\'>new window</a>'\n",
       "    } else {\n",
       "        div.innerHTML = 'Something has gone wrong. Check notebook server for' +\n",
       "                        ' errors.';\n",
       "    }\n",
       "});\n",
       "})(this.parentElement, '/qiime2/redirect?location=/tmp/qiime2/tadi/data/c74b8446-95c0-49ae-90bc-77ab39b90cdc')\" src=\"data:image/gif;base64,R0lGODlhAQABAIAAAP///wAAACH5BAEAAAAALAAAAAABAAEAAAICRAEAOw==\" /></div>"
      ],
      "text/plain": [
       "<visualization: Visualization uuid: c74b8446-95c0-49ae-90bc-77ab39b90cdc>"
      ]
     },
     "execution_count": 15,
     "metadata": {},
     "output_type": "execute_result"
    }
   ],
   "source": [
    "viz = qiime2.Visualization.load('taxa-barplot.qzv')\n",
    "viz"
   ]
  },
  {
   "cell_type": "markdown",
   "metadata": {},
   "source": [
    "## Diversity Analysis: alpha and beta diversity\n"
   ]
  },
  {
   "cell_type": "code",
   "execution_count": 35,
   "metadata": {},
   "outputs": [
    {
     "name": "stdout",
     "output_type": "stream",
     "text": [
      "\u001b[32mSaved FeatureData[AlignedSequence] to: aligned-rep-seqs.qza\u001b[0m\n",
      "\u001b[32mSaved FeatureData[AlignedSequence] to: masked-alignment.qza\u001b[0m\n",
      "\u001b[32mSaved Phylogeny[Unrooted] to: unrooted-tree.qza\u001b[0m\n",
      "\u001b[32mSaved Phylogeny[Rooted] to: rooted-tree.qza\u001b[0m\n",
      "\u001b[0m"
     ]
    }
   ],
   "source": [
    "!qiime phylogeny align-to-tree-mafft-fasttree \\\n",
    "  --i-sequences rep-seqs.qza \\\n",
    "  --o-alignment aligned-rep-seqs.qza \\\n",
    "  --o-masked-alignment masked-alignment.qza \\\n",
    "  --o-tree unrooted-tree.qza \\\n",
    "  --o-rooted-tree rooted-tree.qza"
   ]
  },
  {
   "cell_type": "markdown",
   "metadata": {},
   "source": [
    "**Based on the feature-table summary (table.qzv) above, we will Choose a rarefaction depth at 16,000 (1st quartile, 75% retention) for meaningfull diversity analysis** "
   ]
  },
  {
   "cell_type": "code",
   "execution_count": null,
   "metadata": {},
   "outputs": [],
   "source": [
    "!qiime feature-table rarefy \\\n",
    "  --i-table table.qza \\\n",
    "  --p-sampling-depth 16000 \\\n",
    "  --o-rarefied-table rarefied-table.qza\n"
   ]
  },
  {
   "cell_type": "markdown",
   "metadata": {},
   "source": [
    "**Compute Alpha Diversity**: we will use both faith-pd and shannon index to compute within sample diversity."
   ]
  },
  {
   "cell_type": "code",
   "execution_count": 37,
   "metadata": {},
   "outputs": [
    {
     "name": "stdout",
     "output_type": "stream",
     "text": [
      "\u001b[32mSaved SampleData[AlphaDiversity] to: faith-pd-alpha-diversity-results.qza\u001b[0m\n",
      "\u001b[0m"
     ]
    }
   ],
   "source": [
    "!qiime diversity alpha-phylogenetic \\\n",
    "  --i-table rarefied-table.qza \\\n",
    "  --i-phylogeny rooted-tree.qza \\\n",
    "  --p-metric faith_pd \\\n",
    "  --o-alpha-diversity faith-pd-alpha-diversity-results.qza"
   ]
  },
  {
   "cell_type": "code",
   "execution_count": 38,
   "metadata": {},
   "outputs": [
    {
     "name": "stdout",
     "output_type": "stream",
     "text": [
      "/home/tadi/miniconda3/envs/qiime2-2024.5/lib/python3.9/site-packages/q2_types/sample_data/_transformer.py:27: FutureWarning: errors='ignore' is deprecated and will raise in a future version. Use to_numeric without passing `errors` and catch exceptions explicitly instead\n",
      "  df[cols] = df[cols].apply(pd.to_numeric, errors='ignore')\n",
      "\u001b[32mSaved Visualization to: faith-pd-summary.qzv\u001b[0m\n",
      "\u001b[0m"
     ]
    }
   ],
   "source": [
    "!qiime metadata tabulate \\\n",
    "  --m-input-file faith-pd-alpha-diversity-results.qza \\\n",
    "  --o-visualization faith-pd-summary.qzv"
   ]
  },
  {
   "cell_type": "code",
   "execution_count": 17,
   "metadata": {
    "scrolled": false
   },
   "outputs": [
    {
     "data": {
      "text/html": [
       "<div><img onload=\"(function(div, url){\n",
       "if (typeof require !== 'undefined') {\n",
       "    var baseURL = require.toUrl('').split('/').slice(0, -2).join('/');\n",
       "} else {\n",
       "    var baseURL = JSON.parse(\n",
       "        document.getElementById('jupyter-config-data').innerHTML\n",
       "    ).baseUrl.slice(0, -1);\n",
       "}\n",
       "url = baseURL + url;\n",
       "fetch(url).then(function(res) {\n",
       "    if (res.status === 404) {\n",
       "        div.innerHTML = 'Install QIIME 2 Jupyter extension with:<br />' +\n",
       "                        '<code>jupyter serverextension enable --py qiime2' +\n",
       "                        ' --sys-prefix</code><br />then restart your server.' +\n",
       "                        '<br /><br />(Interactive output not available on ' +\n",
       "                        'static notebook viewer services like nbviewer.)';\n",
       "    } else if (res.status === 409) {\n",
       "        div.innerHTML = 'Visualization no longer in scope. Re-run this cell' +\n",
       "                        ' to see the visualization.';\n",
       "    } else if (res.ok) {\n",
       "        url = res.url;\n",
       "        div.innerHTML = '<iframe src=\\'' + url + '\\' style=\\'' +\n",
       "                        'width: 100%; height: 700px; border: 0;\\'>' +\n",
       "                        '</iframe><hr />Open in a: <a href=\\'' + url + '\\'' +\n",
       "                        ' target=\\'_blank\\'>new window</a>'\n",
       "    } else {\n",
       "        div.innerHTML = 'Something has gone wrong. Check notebook server for' +\n",
       "                        ' errors.';\n",
       "    }\n",
       "});\n",
       "})(this.parentElement, '/qiime2/redirect?location=/tmp/qiime2/tadi/data/be3dd79b-87ef-4e20-8c5d-fc427c961e2d')\" src=\"data:image/gif;base64,R0lGODlhAQABAIAAAP///wAAACH5BAEAAAAALAAAAAABAAEAAAICRAEAOw==\" /></div>"
      ],
      "text/plain": [
       "<visualization: Visualization uuid: be3dd79b-87ef-4e20-8c5d-fc427c961e2d>"
      ]
     },
     "execution_count": 17,
     "metadata": {},
     "output_type": "execute_result"
    }
   ],
   "source": [
    "viz = qiime2.Visualization.load('faith-pd-summary.qzv')\n",
    "viz"
   ]
  },
  {
   "cell_type": "markdown",
   "metadata": {},
   "source": [
    " **note that after rarefaction we lost 10 samples; i.e, two controls and 8 CD samples altogether**"
   ]
  },
  {
   "cell_type": "markdown",
   "metadata": {},
   "source": [
    "#### Using the Faith-pd metric to calculate alpha-group-significance \n",
    "\n",
    "**We will compute the alpha group significance i.e., microbial distribution difference between the two groups**"
   ]
  },
  {
   "cell_type": "code",
   "execution_count": 40,
   "metadata": {},
   "outputs": [
    {
     "name": "stdout",
     "output_type": "stream",
     "text": [
      "\u001b[32mSaved Visualization to: faith-pd-group-significance.qzv\u001b[0m\r\n",
      "\u001b[0m"
     ]
    }
   ],
   "source": [
    "!qiime diversity alpha-group-significance \\\n",
    "  --i-alpha-diversity faith-pd-alpha-diversity-results.qza \\\n",
    "  --m-metadata-file metadata.tsv \\\n",
    "  --o-visualization faith-pd-group-significance.qzv"
   ]
  },
  {
   "cell_type": "code",
   "execution_count": 18,
   "metadata": {
    "scrolled": false
   },
   "outputs": [
    {
     "data": {
      "text/html": [
       "<div><img onload=\"(function(div, url){\n",
       "if (typeof require !== 'undefined') {\n",
       "    var baseURL = require.toUrl('').split('/').slice(0, -2).join('/');\n",
       "} else {\n",
       "    var baseURL = JSON.parse(\n",
       "        document.getElementById('jupyter-config-data').innerHTML\n",
       "    ).baseUrl.slice(0, -1);\n",
       "}\n",
       "url = baseURL + url;\n",
       "fetch(url).then(function(res) {\n",
       "    if (res.status === 404) {\n",
       "        div.innerHTML = 'Install QIIME 2 Jupyter extension with:<br />' +\n",
       "                        '<code>jupyter serverextension enable --py qiime2' +\n",
       "                        ' --sys-prefix</code><br />then restart your server.' +\n",
       "                        '<br /><br />(Interactive output not available on ' +\n",
       "                        'static notebook viewer services like nbviewer.)';\n",
       "    } else if (res.status === 409) {\n",
       "        div.innerHTML = 'Visualization no longer in scope. Re-run this cell' +\n",
       "                        ' to see the visualization.';\n",
       "    } else if (res.ok) {\n",
       "        url = res.url;\n",
       "        div.innerHTML = '<iframe src=\\'' + url + '\\' style=\\'' +\n",
       "                        'width: 100%; height: 700px; border: 0;\\'>' +\n",
       "                        '</iframe><hr />Open in a: <a href=\\'' + url + '\\'' +\n",
       "                        ' target=\\'_blank\\'>new window</a>'\n",
       "    } else {\n",
       "        div.innerHTML = 'Something has gone wrong. Check notebook server for' +\n",
       "                        ' errors.';\n",
       "    }\n",
       "});\n",
       "})(this.parentElement, '/qiime2/redirect?location=/tmp/qiime2/tadi/data/43bfbff5-7496-4ada-aa3f-1837535ef2bb')\" src=\"data:image/gif;base64,R0lGODlhAQABAIAAAP///wAAACH5BAEAAAAALAAAAAABAAEAAAICRAEAOw==\" /></div>"
      ],
      "text/plain": [
       "<visualization: Visualization uuid: 43bfbff5-7496-4ada-aa3f-1837535ef2bb>"
      ]
     },
     "execution_count": 18,
     "metadata": {},
     "output_type": "execute_result"
    }
   ],
   "source": [
    "viz = qiime2.Visualization.load('faith-pd-group-significance.qzv')\n",
    "viz"
   ]
  },
  {
   "cell_type": "markdown",
   "metadata": {},
   "source": [
    "#### Using the shannon index to calculate alpha-group-significance "
   ]
  },
  {
   "cell_type": "code",
   "execution_count": 47,
   "metadata": {},
   "outputs": [
    {
     "name": "stdout",
     "output_type": "stream",
     "text": [
      "\u001b[32mSaved SampleData[AlphaDiversity] to: shannon-alpha-diversity.qza\u001b[0m\n",
      "\u001b[0m"
     ]
    }
   ],
   "source": [
    "!qiime diversity alpha \\\n",
    "  --i-table rarefied-table.qza \\\n",
    "  --p-metric shannon \\\n",
    "  --o-alpha-diversity shannon-alpha-diversity.qza\n"
   ]
  },
  {
   "cell_type": "code",
   "execution_count": 48,
   "metadata": {},
   "outputs": [
    {
     "name": "stdout",
     "output_type": "stream",
     "text": [
      "/home/tadi/miniconda3/envs/qiime2-2024.5/lib/python3.9/site-packages/q2_types/sample_data/_transformer.py:27: FutureWarning: errors='ignore' is deprecated and will raise in a future version. Use to_numeric without passing `errors` and catch exceptions explicitly instead\n",
      "  df[cols] = df[cols].apply(pd.to_numeric, errors='ignore')\n",
      "\u001b[32mSaved Visualization to: shannon-alpha-diversity.qzv\u001b[0m\n",
      "\u001b[0m"
     ]
    }
   ],
   "source": [
    "!qiime metadata tabulate \\\n",
    "  --m-input-file shannon-alpha-diversity.qza \\\n",
    "  --o-visualization shannon-alpha-diversity.qzv\n"
   ]
  },
  {
   "cell_type": "code",
   "execution_count": 50,
   "metadata": {},
   "outputs": [
    {
     "name": "stdout",
     "output_type": "stream",
     "text": [
      "\u001b[32mSaved Visualization to: shannon-group-significance.qzv\u001b[0m\r\n",
      "\u001b[0m"
     ]
    }
   ],
   "source": [
    "!qiime diversity alpha-group-significance \\\n",
    "  --i-alpha-diversity shannon-alpha-diversity.qza \\\n",
    "  --m-metadata-file metadata.tsv \\\n",
    "  --o-visualization shannon-group-significance.qzv"
   ]
  },
  {
   "cell_type": "code",
   "execution_count": 4,
   "metadata": {
    "scrolled": false
   },
   "outputs": [
    {
     "data": {
      "text/html": [
       "<div><img onload=\"(function(div, url){\n",
       "if (typeof require !== 'undefined') {\n",
       "    var baseURL = require.toUrl('').split('/').slice(0, -2).join('/');\n",
       "} else {\n",
       "    var baseURL = JSON.parse(\n",
       "        document.getElementById('jupyter-config-data').innerHTML\n",
       "    ).baseUrl.slice(0, -1);\n",
       "}\n",
       "url = baseURL + url;\n",
       "fetch(url).then(function(res) {\n",
       "    if (res.status === 404) {\n",
       "        div.innerHTML = 'Install QIIME 2 Jupyter extension with:<br />' +\n",
       "                        '<code>jupyter serverextension enable --py qiime2' +\n",
       "                        ' --sys-prefix</code><br />then restart your server.' +\n",
       "                        '<br /><br />(Interactive output not available on ' +\n",
       "                        'static notebook viewer services like nbviewer.)';\n",
       "    } else if (res.status === 409) {\n",
       "        div.innerHTML = 'Visualization no longer in scope. Re-run this cell' +\n",
       "                        ' to see the visualization.';\n",
       "    } else if (res.ok) {\n",
       "        url = res.url;\n",
       "        div.innerHTML = '<iframe src=\\'' + url + '\\' style=\\'' +\n",
       "                        'width: 100%; height: 700px; border: 0;\\'>' +\n",
       "                        '</iframe><hr />Open in a: <a href=\\'' + url + '\\'' +\n",
       "                        ' target=\\'_blank\\'>new window</a>'\n",
       "    } else {\n",
       "        div.innerHTML = 'Something has gone wrong. Check notebook server for' +\n",
       "                        ' errors.';\n",
       "    }\n",
       "});\n",
       "})(this.parentElement, '/qiime2/redirect?location=/tmp/qiime2/tadi/data/922a5c89-72a1-414d-9bd7-08cc7df076e7')\" src=\"data:image/gif;base64,R0lGODlhAQABAIAAAP///wAAACH5BAEAAAAALAAAAAABAAEAAAICRAEAOw==\" /></div>"
      ],
      "text/plain": [
       "<visualization: Visualization uuid: 922a5c89-72a1-414d-9bd7-08cc7df076e7>"
      ]
     },
     "execution_count": 4,
     "metadata": {},
     "output_type": "execute_result"
    }
   ],
   "source": [
    "viz = qiime2.Visualization.load('shannon-group-significance.qzv')\n",
    "viz"
   ]
  },
  {
   "cell_type": "markdown",
   "metadata": {},
   "source": [
    "**Report on the Alpha Diversity Analysis**\n",
    "\n",
    "Both Faith’s Phylogenetic Diversity and the Shannon index were significantly lower in Crohn’s disease patients compared to healthy controls (p < 0.01), indicating a consistent reduction in gut microbial diversity.\n",
    "\n",
    "Faith’s PD captures a loss of phylogenetic richness, suggesting a narrower evolutionary spread of microbes in CD, while the Shannon index reflects reduced taxonomic richness and/or evenness, pointing to fewer or more unevenly distributed taxa.\n",
    "\n",
    "Together, these results support the presence of microbial dysbiosis in Crohn’s disease, with CD samples showing a visibly compressed diversity range relative to controls, as seen in the box plots. This aligns with the hypothesis that gut microbial diversity is significantly altered in Crohn’s disease."
   ]
  },
  {
   "cell_type": "markdown",
   "metadata": {},
   "source": [
    "## Compute beta diversity using unweighted unifrac "
   ]
  },
  {
   "cell_type": "code",
   "execution_count": 52,
   "metadata": {},
   "outputs": [
    {
     "name": "stdout",
     "output_type": "stream",
     "text": [
      "\u001b[32mSaved DistanceMatrix to: unweighted-unifrac-distance.qza\u001b[0m\r\n",
      "\u001b[0m"
     ]
    }
   ],
   "source": [
    "!qiime diversity beta-phylogenetic \\\n",
    "  --i-table rarefied-table.qza \\\n",
    "  --i-phylogeny rooted-tree.qza \\\n",
    "  --p-metric unweighted_unifrac \\\n",
    "  --o-distance-matrix unweighted-unifrac-distance.qza\n",
    "\n"
   ]
  },
  {
   "cell_type": "code",
   "execution_count": 53,
   "metadata": {},
   "outputs": [
    {
     "name": "stdout",
     "output_type": "stream",
     "text": [
      "\u001b[32mSaved PCoAResults to: unweighted-unifrac-pcoa.qza\u001b[0m\n",
      "\u001b[0m"
     ]
    }
   ],
   "source": [
    "!qiime diversity pcoa \\\n",
    "  --i-distance-matrix unweighted-unifrac-distance.qza \\\n",
    "  --o-pcoa unweighted-unifrac-pcoa.qza"
   ]
  },
  {
   "cell_type": "code",
   "execution_count": 54,
   "metadata": {},
   "outputs": [
    {
     "name": "stdout",
     "output_type": "stream",
     "text": [
      "\u001b[32mSaved Visualization to: unweighted-unifrac-emperor.qzv\u001b[0m\r\n",
      "\u001b[0m"
     ]
    }
   ],
   "source": [
    "!qiime emperor plot \\\n",
    "  --i-pcoa unweighted-unifrac-pcoa.qza \\\n",
    "  --m-metadata-file metadata.tsv \\\n",
    "  --o-visualization unweighted-unifrac-emperor.qzv"
   ]
  },
  {
   "cell_type": "code",
   "execution_count": 19,
   "metadata": {
    "scrolled": true
   },
   "outputs": [
    {
     "data": {
      "text/html": [
       "<div><img onload=\"(function(div, url){\n",
       "if (typeof require !== 'undefined') {\n",
       "    var baseURL = require.toUrl('').split('/').slice(0, -2).join('/');\n",
       "} else {\n",
       "    var baseURL = JSON.parse(\n",
       "        document.getElementById('jupyter-config-data').innerHTML\n",
       "    ).baseUrl.slice(0, -1);\n",
       "}\n",
       "url = baseURL + url;\n",
       "fetch(url).then(function(res) {\n",
       "    if (res.status === 404) {\n",
       "        div.innerHTML = 'Install QIIME 2 Jupyter extension with:<br />' +\n",
       "                        '<code>jupyter serverextension enable --py qiime2' +\n",
       "                        ' --sys-prefix</code><br />then restart your server.' +\n",
       "                        '<br /><br />(Interactive output not available on ' +\n",
       "                        'static notebook viewer services like nbviewer.)';\n",
       "    } else if (res.status === 409) {\n",
       "        div.innerHTML = 'Visualization no longer in scope. Re-run this cell' +\n",
       "                        ' to see the visualization.';\n",
       "    } else if (res.ok) {\n",
       "        url = res.url;\n",
       "        div.innerHTML = '<iframe src=\\'' + url + '\\' style=\\'' +\n",
       "                        'width: 100%; height: 700px; border: 0;\\'>' +\n",
       "                        '</iframe><hr />Open in a: <a href=\\'' + url + '\\'' +\n",
       "                        ' target=\\'_blank\\'>new window</a>'\n",
       "    } else {\n",
       "        div.innerHTML = 'Something has gone wrong. Check notebook server for' +\n",
       "                        ' errors.';\n",
       "    }\n",
       "});\n",
       "})(this.parentElement, '/qiime2/redirect?location=/tmp/qiime2/tadi/data/0adb2672-765f-4578-adbd-ffc23eb81afb')\" src=\"data:image/gif;base64,R0lGODlhAQABAIAAAP///wAAACH5BAEAAAAALAAAAAABAAEAAAICRAEAOw==\" /></div>"
      ],
      "text/plain": [
       "<visualization: Visualization uuid: 0adb2672-765f-4578-adbd-ffc23eb81afb>"
      ]
     },
     "execution_count": 19,
     "metadata": {},
     "output_type": "execute_result"
    }
   ],
   "source": [
    "viz = qiime2.Visualization.load('unweighted-unifrac-emperor.qzv')\n",
    "viz"
   ]
  },
  {
   "cell_type": "markdown",
   "metadata": {},
   "source": [
    "**Use PERMANOVA to test statistical significance between groups**"
   ]
  },
  {
   "cell_type": "code",
   "execution_count": 59,
   "metadata": {},
   "outputs": [
    {
     "name": "stdout",
     "output_type": "stream",
     "text": [
      "\u001b[32mSaved Visualization to: permanova-unifrac.qzv\u001b[0m\n",
      "\u001b[0m"
     ]
    }
   ],
   "source": [
    "!qiime diversity beta-group-significance \\\n",
    "  --i-distance-matrix unweighted-unifrac-distance.qza \\\n",
    "  --m-metadata-file metadata.tsv \\\n",
    "  --m-metadata-column disease_group \\\n",
    "  --o-visualization permanova-unifrac.qzv \\\n",
    "  --p-pairwise"
   ]
  },
  {
   "cell_type": "code",
   "execution_count": 20,
   "metadata": {
    "scrolled": true
   },
   "outputs": [
    {
     "data": {
      "text/html": [
       "<div><img onload=\"(function(div, url){\n",
       "if (typeof require !== 'undefined') {\n",
       "    var baseURL = require.toUrl('').split('/').slice(0, -2).join('/');\n",
       "} else {\n",
       "    var baseURL = JSON.parse(\n",
       "        document.getElementById('jupyter-config-data').innerHTML\n",
       "    ).baseUrl.slice(0, -1);\n",
       "}\n",
       "url = baseURL + url;\n",
       "fetch(url).then(function(res) {\n",
       "    if (res.status === 404) {\n",
       "        div.innerHTML = 'Install QIIME 2 Jupyter extension with:<br />' +\n",
       "                        '<code>jupyter serverextension enable --py qiime2' +\n",
       "                        ' --sys-prefix</code><br />then restart your server.' +\n",
       "                        '<br /><br />(Interactive output not available on ' +\n",
       "                        'static notebook viewer services like nbviewer.)';\n",
       "    } else if (res.status === 409) {\n",
       "        div.innerHTML = 'Visualization no longer in scope. Re-run this cell' +\n",
       "                        ' to see the visualization.';\n",
       "    } else if (res.ok) {\n",
       "        url = res.url;\n",
       "        div.innerHTML = '<iframe src=\\'' + url + '\\' style=\\'' +\n",
       "                        'width: 100%; height: 700px; border: 0;\\'>' +\n",
       "                        '</iframe><hr />Open in a: <a href=\\'' + url + '\\'' +\n",
       "                        ' target=\\'_blank\\'>new window</a>'\n",
       "    } else {\n",
       "        div.innerHTML = 'Something has gone wrong. Check notebook server for' +\n",
       "                        ' errors.';\n",
       "    }\n",
       "});\n",
       "})(this.parentElement, '/qiime2/redirect?location=/tmp/qiime2/tadi/data/d70817ad-0d92-438b-8b5d-c04fdc9a19aa')\" src=\"data:image/gif;base64,R0lGODlhAQABAIAAAP///wAAACH5BAEAAAAALAAAAAABAAEAAAICRAEAOw==\" /></div>"
      ],
      "text/plain": [
       "<visualization: Visualization uuid: d70817ad-0d92-438b-8b5d-c04fdc9a19aa>"
      ]
     },
     "execution_count": 20,
     "metadata": {},
     "output_type": "execute_result"
    }
   ],
   "source": [
    "viz = qiime2.Visualization.load('permanova-unifrac.qzv')\n",
    "viz"
   ]
  },
  {
   "cell_type": "markdown",
   "metadata": {},
   "source": [
    "#### Report on the beta diversity group significance\n",
    "\n",
    "We assessed beta diversity using UniFrac distance metrics, followed by Principal Coordinates Analysis (PCoA) to visualize the variation in microbial community composition across samples. The PCoA plot showed clear separation between CD (red) and healthy control samples (blue), with most samples clustering by group. While 5 control samples appeared within the CD cluster, suggesting minor mixing likely reflecting inter-individual variability, the overall distribution supports a distinct microbial community structure associated with CD.\n",
    "\n",
    "To test the statistical significance of this separation, we performed a PERMANOVA. The result was significant (pseudo-F = 5.05, p = 0.001, q = 0.001), indicating that the differences in microbiome composition between CD and control groups are unlikely to be due to chance.\n",
    "\n",
    "These findings provide robust support for the hypothesis that Crohn’s disease is associated with a shift in gut microbial community structure, consistent with microbial dysbiosis."
   ]
  },
  {
   "cell_type": "markdown",
   "metadata": {},
   "source": [
    "## Differential abundance at the genus level\n",
    "\n",
    "As we are using 16S rRNA which are good for species level resolution, we will collapse the feature table to genera level."
   ]
  },
  {
   "cell_type": "code",
   "execution_count": 9,
   "metadata": {},
   "outputs": [
    {
     "name": "stdout",
     "output_type": "stream",
     "text": [
      "\u001b[32mSaved FeatureTable[Frequency] to: table-genus.qza\u001b[0m\n",
      "\u001b[0m"
     ]
    }
   ],
   "source": [
    "!qiime taxa collapse \\\n",
    "  --i-table table.qza \\\n",
    "  --i-taxonomy taxonomy.qza \\\n",
    "  --p-level 6 \\\n",
    "  --o-collapsed-table table-genus.qza\n"
   ]
  },
  {
   "cell_type": "code",
   "execution_count": 10,
   "metadata": {},
   "outputs": [
    {
     "name": "stdout",
     "output_type": "stream",
     "text": [
      "\u001b[32mSaved FeatureTable[Composition] to: comp-table-genus.qza\u001b[0m\n",
      "\u001b[0m\u001b[32mSaved Visualization to: ancom-genus.qzv\u001b[0m\n",
      "\u001b[0m"
     ]
    }
   ],
   "source": [
    "!qiime composition add-pseudocount \\\n",
    "  --i-table table-genus.qza \\\n",
    "  --o-composition-table comp-table-genus.qza\n",
    "\n",
    "!qiime composition ancom \\\n",
    "  --i-table comp-table-genus.qza \\\n",
    "  --m-metadata-file metadata.tsv \\\n",
    "  --m-metadata-column disease_group \\\n",
    "  --o-visualization ancom-genus.qzv\n"
   ]
  },
  {
   "cell_type": "code",
   "execution_count": 8,
   "metadata": {
    "scrolled": true
   },
   "outputs": [
    {
     "data": {
      "text/html": [
       "<div><img onload=\"(function(div, url){\n",
       "if (typeof require !== 'undefined') {\n",
       "    var baseURL = require.toUrl('').split('/').slice(0, -2).join('/');\n",
       "} else {\n",
       "    var baseURL = JSON.parse(\n",
       "        document.getElementById('jupyter-config-data').innerHTML\n",
       "    ).baseUrl.slice(0, -1);\n",
       "}\n",
       "url = baseURL + url;\n",
       "fetch(url).then(function(res) {\n",
       "    if (res.status === 404) {\n",
       "        div.innerHTML = 'Install QIIME 2 Jupyter extension with:<br />' +\n",
       "                        '<code>jupyter serverextension enable --py qiime2' +\n",
       "                        ' --sys-prefix</code><br />then restart your server.' +\n",
       "                        '<br /><br />(Interactive output not available on ' +\n",
       "                        'static notebook viewer services like nbviewer.)';\n",
       "    } else if (res.status === 409) {\n",
       "        div.innerHTML = 'Visualization no longer in scope. Re-run this cell' +\n",
       "                        ' to see the visualization.';\n",
       "    } else if (res.ok) {\n",
       "        url = res.url;\n",
       "        div.innerHTML = '<iframe src=\\'' + url + '\\' style=\\'' +\n",
       "                        'width: 100%; height: 700px; border: 0;\\'>' +\n",
       "                        '</iframe><hr />Open in a: <a href=\\'' + url + '\\'' +\n",
       "                        ' target=\\'_blank\\'>new window</a>'\n",
       "    } else {\n",
       "        div.innerHTML = 'Something has gone wrong. Check notebook server for' +\n",
       "                        ' errors.';\n",
       "    }\n",
       "});\n",
       "})(this.parentElement, '/qiime2/redirect?location=/tmp/qiime2/tadi/data/54d46913-7224-41d5-938c-720cb7f2e321')\" src=\"data:image/gif;base64,R0lGODlhAQABAIAAAP///wAAACH5BAEAAAAALAAAAAABAAEAAAICRAEAOw==\" /></div>"
      ],
      "text/plain": [
       "<visualization: Visualization uuid: 54d46913-7224-41d5-938c-720cb7f2e321>"
      ]
     },
     "execution_count": 8,
     "metadata": {},
     "output_type": "execute_result"
    }
   ],
   "source": [
    "viz = qiime2.Visualization.load('ancom-genus.qzv')\n",
    "viz"
   ]
  },
  {
   "cell_type": "markdown",
   "metadata": {},
   "source": [
    "**Report on the differential abundance of ancom results**\n",
    "\n",
    "Differential abundance analysis using ANCOM identified two genera—Flavonifractor and Ruminococcus_gnavus_group as significantly enriched in individuals with Crohn’s disease (CD) compared to healthy controls. Both taxa are members of the phylum Firmicutes and have been implicated in gut microbiota dysbiosis. Notably, Flavonifractor has been linked to the degradation of dietary flavonoids and pro-inflammatory activity, while Ruminococcus_gnavus_group is known to produce inflammatory polysaccharides and is frequently elevated in IBD patients. Their enrichment in CD samples aligns with previous findings and supports their potential involvement in promoting intestinal inflammation and disease severity. These results contribute to the growing evidence of microbiome shifts associated with CD pathogenesis."
   ]
  }
 ],
 "metadata": {
  "kernelspec": {
   "display_name": "Python 3 (ipykernel)",
   "language": "python",
   "name": "python3"
  },
  "language_info": {
   "codemirror_mode": {
    "name": "ipython",
    "version": 3
   },
   "file_extension": ".py",
   "mimetype": "text/x-python",
   "name": "python",
   "nbconvert_exporter": "python",
   "pygments_lexer": "ipython3",
   "version": "3.9.19"
  }
 },
 "nbformat": 4,
 "nbformat_minor": 4
}
